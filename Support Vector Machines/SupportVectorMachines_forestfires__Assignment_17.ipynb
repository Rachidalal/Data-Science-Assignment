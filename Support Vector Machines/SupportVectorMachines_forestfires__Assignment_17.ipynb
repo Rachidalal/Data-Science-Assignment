{
  "nbformat": 4,
  "nbformat_minor": 0,
  "metadata": {
    "colab": {
      "provenance": []
    },
    "kernelspec": {
      "name": "python3",
      "display_name": "Python 3"
    },
    "language_info": {
      "name": "python"
    }
  },
  "cells": [
    {
      "cell_type": "code",
      "execution_count": null,
      "metadata": {
        "id": "rasnlf1nWC8M"
      },
      "outputs": [],
      "source": [
        "import pandas as pd\n",
        "import numpy as np\n",
        "from sklearn.feature_extraction.text import CountVectorizer, TfidfVectorizer\n",
        "from sklearn.preprocessing import StandardScaler\n",
        "from sklearn import svm\n",
        "from sklearn.svm import SVC\n",
        "from sklearn.model_selection import GridSearchCV\n",
        "from sklearn.metrics import classification_report\n",
        "from sklearn.metrics import accuracy_score, confusion_matrix\n",
        "from sklearn.model_selection import train_test_split, cross_val_score\n",
        "from sklearn.preprocessing import LabelEncoder\n",
        "import seaborn as sns"
      ]
    },
    {
      "cell_type": "code",
      "source": [
        "data = pd.read_csv('forestfires.csv')"
      ],
      "metadata": {
        "id": "Rc8xUF8jWL7E"
      },
      "execution_count": null,
      "outputs": []
    },
    {
      "cell_type": "code",
      "source": [
        "data.info()"
      ],
      "metadata": {
        "id": "7YHH_NX7WMAF"
      },
      "execution_count": null,
      "outputs": []
    },
    {
      "cell_type": "code",
      "source": [
        "data.columns"
      ],
      "metadata": {
        "id": "0KPibMAjWMBz"
      },
      "execution_count": null,
      "outputs": []
    },
    {
      "cell_type": "code",
      "source": [
        "data.shape"
      ],
      "metadata": {
        "id": "Nq_oDJU3Yv3H"
      },
      "execution_count": null,
      "outputs": []
    },
    {
      "cell_type": "code",
      "source": [
        "data2 = data.copy()"
      ],
      "metadata": {
        "id": "-n0sry-eYv4d"
      },
      "execution_count": null,
      "outputs": []
    },
    {
      "cell_type": "code",
      "source": [
        "data2 = data2.drop(['month'],axis=1)"
      ],
      "metadata": {
        "id": "9lxaE3ntYwDl"
      },
      "execution_count": null,
      "outputs": []
    },
    {
      "cell_type": "code",
      "source": [
        "data2 = data2.drop(['day'],axis=1)"
      ],
      "metadata": {
        "id": "bkhA4fIvYwEv"
      },
      "execution_count": null,
      "outputs": []
    },
    {
      "cell_type": "code",
      "source": [
        "data2.head()"
      ],
      "metadata": {
        "id": "py6CSsO0YwJw"
      },
      "execution_count": null,
      "outputs": []
    },
    {
      "cell_type": "code",
      "source": [
        "cols = data2.columns\n",
        "sns.heatmap(data2[cols].isnull(),\n",
        "            cmap=sns.color_palette(colours))"
      ],
      "metadata": {
        "id": "zpAO4ljiYwLC"
      },
      "execution_count": null,
      "outputs": []
    },
    {
      "cell_type": "code",
      "source": [
        "data2['size_category'] = LabelEncoder().fit_transform(data2['size_category'].astype(str))\n",
        "data2.head()"
      ],
      "metadata": {
        "id": "Rqim0maCWMFn"
      },
      "execution_count": null,
      "outputs": []
    },
    {
      "cell_type": "code",
      "source": [
        "x = data2.iloc[:,0:28]\n",
        "y = data2.iloc[:,28]"
      ],
      "metadata": {
        "id": "tPo0YAtiZK8Q"
      },
      "execution_count": null,
      "outputs": []
    },
    {
      "cell_type": "code",
      "source": [
        "x.head()"
      ],
      "metadata": {
        "id": "xD7rdqjNZK9u"
      },
      "execution_count": null,
      "outputs": []
    },
    {
      "cell_type": "code",
      "source": [
        "y.head()"
      ],
      "metadata": {
        "id": "O84lewmDZLBW"
      },
      "execution_count": null,
      "outputs": []
    },
    {
      "cell_type": "code",
      "source": [
        "x_train, x_test, y_train, y_test = train_test_split(x,y, test_size=0.3,random_state=101)\n"
      ],
      "metadata": {
        "id": "_BuWm0e2ZLC6"
      },
      "execution_count": null,
      "outputs": []
    },
    {
      "cell_type": "code",
      "source": [
        "model = SVC()"
      ],
      "metadata": {
        "id": "gYDNgwXIZLGz"
      },
      "execution_count": null,
      "outputs": []
    },
    {
      "cell_type": "code",
      "source": [
        "model.fit(x_train,y_train)"
      ],
      "metadata": {
        "id": "7UxK-VBMZh1c"
      },
      "execution_count": null,
      "outputs": []
    },
    {
      "cell_type": "code",
      "source": [
        "pred = model.predict(x_test)\n",
        "print(confusion_matrix(y_test,pred))"
      ],
      "metadata": {
        "id": "0rQEsARBZkBU"
      },
      "execution_count": null,
      "outputs": []
    },
    {
      "cell_type": "code",
      "source": [
        "from sklearn.model_selection import GridSearchCV\n",
        "clf = SVC()\n",
        "param_grid = [{'kernel':['rbf','poly','linear'],'gamma':[100,50,10,0.5],'C':[10,0.1,15] }]\n",
        "gsv = GridSearchCV(clf,param_grid,cv=10)\n",
        "gsv.fit(x_train,y_train)"
      ],
      "metadata": {
        "id": "hwwwrR03Zob4"
      },
      "execution_count": null,
      "outputs": []
    },
    {
      "cell_type": "code",
      "source": [
        "gsv.best_params_ , gsv.best_score_"
      ],
      "metadata": {
        "colab": {
          "base_uri": "https://localhost:8080/"
        },
        "id": "e8dEF6YgZodO",
        "outputId": "43391215-a20a-4bef-a65b-368308474d6e"
      },
      "execution_count": null,
      "outputs": [
        {
          "output_type": "execute_result",
          "data": {
            "text/plain": [
              "({'C': 0.1, 'gamma': 100, 'kernel': 'linear'}, 0.9834084084084085)"
            ]
          },
          "metadata": {},
          "execution_count": 22
        }
      ]
    },
    {
      "cell_type": "code",
      "source": [
        "model_final = SVC(C= 0.1,kernel='linear')\n",
        "model_final.fit(x_train , y_train)"
      ],
      "metadata": {
        "id": "-7zgG-tPZ-57"
      },
      "execution_count": null,
      "outputs": []
    },
    {
      "cell_type": "code",
      "source": [
        "Y_pred = model_final.predict(x_test)\n",
        "Y_pred"
      ],
      "metadata": {
        "id": "udFHkZ7zZ-7q"
      },
      "execution_count": null,
      "outputs": []
    },
    {
      "cell_type": "code",
      "source": [
        "acc = accuracy_score(y_test, Y_pred) * 100\n",
        "print(\"Accuracy =\", acc)\n",
        "confusion_matrix(y_test, Y_pred)\n",
        "# accuracy is 98%"
      ],
      "metadata": {
        "id": "oVWeybr0Z--k"
      },
      "execution_count": null,
      "outputs": []
    }
  ]
}