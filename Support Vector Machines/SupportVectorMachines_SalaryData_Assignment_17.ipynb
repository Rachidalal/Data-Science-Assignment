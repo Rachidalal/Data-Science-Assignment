{
  "cells": [
    {
      "cell_type": "code",
      "execution_count": null,
      "id": "a3e09bbd",
      "metadata": {
        "id": "a3e09bbd"
      },
      "outputs": [],
      "source": [
        "import pandas as pd\n",
        "import numpy as np\n",
        "from sklearn.preprocessing import StandardScaler\n",
        "\n",
        "from sklearn import svm\n",
        "from sklearn.svm import SVC\n",
        "from sklearn.model_selection import GridSearchCV, RandomizedSearchCV\n",
        "from sklearn.metrics import classification_report\n",
        "\n",
        "from sklearn.metrics import accuracy_score, confusion_matrix\n",
        "from sklearn.model_selection import train_test_split, cross_val_score"
      ]
    },
    {
      "cell_type": "code",
      "execution_count": null,
      "id": "46cd6153",
      "metadata": {
        "id": "46cd6153"
      },
      "outputs": [],
      "source": [
        "Train=pd.read_csv(\"SalaryData_Train(1).csv\")\n",
        "Train"
      ]
    },
    {
      "cell_type": "code",
      "execution_count": null,
      "id": "2fe01adc",
      "metadata": {
        "id": "2fe01adc"
      },
      "outputs": [],
      "source": [
        "Test=pd.read_csv(\"SalaryData_Test(1).csv\")\n",
        "Test"
      ]
    },
    {
      "cell_type": "code",
      "execution_count": null,
      "id": "3722022f",
      "metadata": {
        "id": "3722022f"
      },
      "outputs": [],
      "source": [
        "Train.isnull().sum()"
      ]
    },
    {
      "cell_type": "code",
      "execution_count": null,
      "id": "4c3fed90",
      "metadata": {
        "id": "4c3fed90"
      },
      "outputs": [],
      "source": [
        "Test.isnull().sum()"
      ]
    },
    {
      "cell_type": "code",
      "execution_count": null,
      "id": "f9e285d1",
      "metadata": {
        "id": "f9e285d1"
      },
      "outputs": [],
      "source": [
        "Train.shape"
      ]
    },
    {
      "cell_type": "code",
      "execution_count": null,
      "id": "2c7f06a0",
      "metadata": {
        "id": "2c7f06a0"
      },
      "outputs": [],
      "source": [
        "Test.shape"
      ]
    },
    {
      "cell_type": "code",
      "execution_count": null,
      "id": "a6ff9967",
      "metadata": {
        "id": "a6ff9967"
      },
      "outputs": [],
      "source": [
        "Train.describe()"
      ]
    },
    {
      "cell_type": "code",
      "execution_count": null,
      "id": "4e639bd2",
      "metadata": {
        "id": "4e639bd2"
      },
      "outputs": [],
      "source": [
        "Test.describe()"
      ]
    },
    {
      "cell_type": "code",
      "execution_count": null,
      "id": "1ebf23ea",
      "metadata": {
        "id": "1ebf23ea"
      },
      "outputs": [],
      "source": [
        "Train.isnull().any()"
      ]
    },
    {
      "cell_type": "code",
      "execution_count": null,
      "id": "7529eeff",
      "metadata": {
        "id": "7529eeff"
      },
      "outputs": [],
      "source": [
        "Test.isnull().any()"
      ]
    },
    {
      "cell_type": "code",
      "execution_count": null,
      "id": "3444cae0",
      "metadata": {
        "id": "3444cae0"
      },
      "outputs": [],
      "source": [
        "Train.info()"
      ]
    },
    {
      "cell_type": "code",
      "execution_count": null,
      "id": "fbe06ab9",
      "metadata": {
        "id": "fbe06ab9"
      },
      "outputs": [],
      "source": [
        "Test.info()"
      ]
    },
    {
      "cell_type": "code",
      "execution_count": null,
      "id": "0ff33474",
      "metadata": {
        "id": "0ff33474"
      },
      "outputs": [],
      "source": [
        "Train.dropna()"
      ]
    },
    {
      "cell_type": "code",
      "execution_count": null,
      "id": "d61242bc",
      "metadata": {
        "id": "d61242bc"
      },
      "outputs": [],
      "source": [
        "Train.isnull().mean()"
      ]
    },
    {
      "cell_type": "code",
      "execution_count": null,
      "id": "634490c0",
      "metadata": {
        "id": "634490c0"
      },
      "outputs": [],
      "source": [
        "Test.isnull().any()"
      ]
    },
    {
      "cell_type": "code",
      "execution_count": null,
      "id": "47305973",
      "metadata": {
        "id": "47305973"
      },
      "outputs": [],
      "source": [
        "Test.isnull().sum()"
      ]
    },
    {
      "cell_type": "code",
      "execution_count": null,
      "id": "8cd5c65c",
      "metadata": {
        "id": "8cd5c65c"
      },
      "outputs": [],
      "source": [
        "from sklearn import preprocessing\n",
        "label_encoder=preprocessing.LabelEncoder()\n",
        "for i in Train:\n",
        "    Train[i]=label_encoder.fit_transform(Train[i])\n",
        "    Test[i]=label_encoder.fit_transform(Test[i])\n",
        "train_x=Train.iloc[0:500,0:13]\n",
        "train_y=Train.iloc[0:500,13]\n",
        "test_x=Test.iloc[0:300,0:13]\n",
        "test_y=Test.iloc[0:300,13]"
      ]
    },
    {
      "cell_type": "code",
      "execution_count": null,
      "id": "919617b8",
      "metadata": {
        "id": "919617b8"
      },
      "outputs": [],
      "source": [
        "from sklearn.svm import SVC\n",
        "model_linear=SVC(kernel='linear')\n",
        "model_linear.fit(train_x,train_y)\n",
        "train_pred_lin=model_linear.predict(train_x)\n",
        "test_pred_lin=model_linear.predict(test_x)\n",
        "train_lin_acc=np.mean(train_pred_lin==train_y)\n",
        "test_lin_acc=np.mean(test_pred_lin==test_y)\n",
        "train_lin_acc\n",
        "test_lin_acc"
      ]
    },
    {
      "cell_type": "code",
      "execution_count": null,
      "id": "d03561b3",
      "metadata": {
        "id": "d03561b3"
      },
      "outputs": [],
      "source": [
        "model_poly=SVC(kernel='poly')\n",
        "model_poly.fit(train_x,train_y)\n",
        "train_pred_poly=model_poly.predict(train_x)\n",
        "test_pred_poly=model_poly.predict(test_x)\n",
        "train_poly_acc=np.mean(train_pred_poly==train_y)\n",
        "test_poly_acc=np.mean(test_pred_poly==test_y)\n",
        "train_poly_acc\n",
        "test_poly_acc"
      ]
    },
    {
      "cell_type": "code",
      "execution_count": null,
      "id": "3df2c1f0",
      "metadata": {
        "id": "3df2c1f0"
      },
      "outputs": [],
      "source": [
        "model_rbf=SVC(kernel='rbf')\n",
        "model_rbf.fit(train_x,train_y)\n",
        "train_pred_rbf=model_rbf.predict(train_x)\n",
        "test_pred_rbf=model_rbf.predict(test_x)\n",
        "train_rbf_acc=np.mean(train_pred_rbf==train_y)\n",
        "test_rbf_acc=np.mean(test_pred_rbf==test_y)\n",
        "train_rbf_acc\n",
        "test_rbf_acc"
      ]
    },
    {
      "cell_type": "code",
      "execution_count": null,
      "id": "b8a8a865",
      "metadata": {
        "id": "b8a8a865"
      },
      "outputs": [],
      "source": [
        "rbf_pred=model_rbf.predict(test_x)\n",
        "rbf_pred"
      ]
    },
    {
      "cell_type": "code",
      "execution_count": null,
      "id": "0fa00cbd",
      "metadata": {
        "id": "0fa00cbd"
      },
      "outputs": [],
      "source": [
        "acc = accuracy_score(test_y, rbf_pred) * 100\n",
        "print(\"Accuracy =\", acc)\n",
        "confusion_matrix(test_y, rbf_pred)"
      ]
    },
    {
      "cell_type": "code",
      "execution_count": null,
      "id": "0de23db6",
      "metadata": {
        "id": "0de23db6"
      },
      "outputs": [],
      "source": [
        "from sklearn.model_selection import RandomizedSearchCV\n",
        "\n",
        "param_grid = {'C': np.arange(0.1, 10),\n",
        "              'gamma': [0.001, 0.01, 0.1, 0.2, 0.5, 0.9, 1, 10],\n",
        "              'kernel': ['rbf', 'linear']}\n",
        "\n",
        "grid = RandomizedSearchCV(SVC(), param_distributions=param_grid, cv=5, random_state=123, n_jobs=-1)\n",
        "grid.fit(train_x, train_y)\n",
        "\n",
        "print(grid.best_params_)"
      ]
    },
    {
      "cell_type": "code",
      "execution_count": null,
      "id": "511bb799",
      "metadata": {
        "id": "511bb799"
      },
      "outputs": [],
      "source": [
        "grid.best_params_"
      ]
    },
    {
      "cell_type": "code",
      "execution_count": null,
      "id": "f87fffbb",
      "metadata": {
        "id": "f87fffbb"
      },
      "outputs": [],
      "source": [
        "clf1 = SVC(C=7.1, gamma = 0.5, kernel = 'linear')\n",
        "clf1.fit(train_x, train_y)\n",
        "\n",
        "pred1_y = clf1.predict(train_x)\n",
        "acc = accuracy_score(train_y, pred1_y) * 100\n",
        "print(\"Accuracy_tr=\", acc)\n",
        "confusion_matrix(train_y, pred1_y)\n",
        "\n",
        "pred_y = clf1.predict(test_x)\n",
        "acc = accuracy_score(test_y, pred_y) * 100\n",
        "print(\"Accuracy_test=\", acc)\n",
        "confusion_matrix(test_y, pred_y)"
      ]
    }
  ],
  "metadata": {
    "kernelspec": {
      "display_name": "Python 3 (ipykernel)",
      "language": "python",
      "name": "python3"
    },
    "language_info": {
      "codemirror_mode": {
        "name": "ipython",
        "version": 3
      },
      "file_extension": ".py",
      "mimetype": "text/x-python",
      "name": "python",
      "nbconvert_exporter": "python",
      "pygments_lexer": "ipython3",
      "version": "3.9.13"
    },
    "colab": {
      "provenance": []
    }
  },
  "nbformat": 4,
  "nbformat_minor": 5
}