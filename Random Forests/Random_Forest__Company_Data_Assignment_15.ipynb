{
  "cells": [
    {
      "cell_type": "code",
      "execution_count": null,
      "id": "78472813",
      "metadata": {
        "id": "78472813"
      },
      "outputs": [],
      "source": [
        "import pandas as pd\n",
        "import numpy as np\n",
        "from sklearn.ensemble import BaggingClassifier\n",
        "from sklearn.tree import DecisionTreeClassifier\n",
        "from sklearn.model_selection import cross_val_score, KFold\n",
        "from sklearn.model_selection import train_test_split"
      ]
    },
    {
      "cell_type": "code",
      "execution_count": null,
      "id": "597b3837",
      "metadata": {
        "id": "597b3837"
      },
      "outputs": [],
      "source": [
        "data=pd.read_csv(\"Company_Data.csv\")\n",
        "data"
      ]
    },
    {
      "cell_type": "code",
      "execution_count": null,
      "id": "76413d63",
      "metadata": {
        "id": "76413d63"
      },
      "outputs": [],
      "source": [
        "first_column = data.iloc[:, 0]\n",
        "median = first_column.median()\n",
        "print(\"Median:\", median)"
      ]
    },
    {
      "cell_type": "code",
      "execution_count": null,
      "id": "84f00ffe",
      "metadata": {
        "id": "84f00ffe"
      },
      "outputs": [],
      "source": [
        "result = [1 if value > median else 0 for value in first_column]\n",
        "print(result)"
      ]
    },
    {
      "cell_type": "code",
      "execution_count": null,
      "id": "63d020cb",
      "metadata": {
        "id": "63d020cb"
      },
      "outputs": [],
      "source": [
        "data.iloc[:, 0] = [1 if value > median else 0 for value in first_column]\n",
        "data.to_csv('modified_data.csv', index=False)"
      ]
    },
    {
      "cell_type": "code",
      "execution_count": null,
      "id": "5abfb079",
      "metadata": {
        "id": "5abfb079"
      },
      "outputs": [],
      "source": [
        "data"
      ]
    },
    {
      "cell_type": "code",
      "execution_count": null,
      "id": "c8726c4c",
      "metadata": {
        "id": "c8726c4c"
      },
      "outputs": [],
      "source": [
        "data=pd.get_dummies(data, columns = ['ShelveLoc', 'Urban', 'US'])\n",
        "data"
      ]
    },
    {
      "cell_type": "code",
      "execution_count": null,
      "id": "f51eb672",
      "metadata": {
        "id": "f51eb672"
      },
      "outputs": [],
      "source": [
        "array = data.values\n",
        "X = array[:,1:10]\n",
        "Y = array[:,0]"
      ]
    },
    {
      "cell_type": "code",
      "execution_count": null,
      "id": "43db234f",
      "metadata": {
        "id": "43db234f"
      },
      "outputs": [],
      "source": [
        "cart = DecisionTreeClassifier()\n",
        "model = BaggingClassifier(base_estimator=cart, n_estimators=100, random_state=7)\n",
        "results = cross_val_score(model, X,Y, cv=5)\n",
        "print(results.mean())"
      ]
    },
    {
      "cell_type": "code",
      "execution_count": null,
      "id": "009b7003",
      "metadata": {
        "id": "009b7003"
      },
      "outputs": [],
      "source": [
        "X_train, X_test, Y_train, Y_test = train_test_split(X, Y, test_size=0.2, random_state=123)"
      ]
    },
    {
      "cell_type": "code",
      "execution_count": null,
      "id": "59c6a6e2",
      "metadata": {
        "id": "59c6a6e2"
      },
      "outputs": [],
      "source": [
        "bg_clf=BaggingClassifier(base_estimator=cart, n_estimators=100, random_state=7)\n",
        "bg_clf.fit(X_train, Y_train)"
      ]
    },
    {
      "cell_type": "code",
      "execution_count": null,
      "id": "f768bb83",
      "metadata": {
        "id": "f768bb83"
      },
      "outputs": [],
      "source": [
        "Y_pred_test=bg_clf.predict(X_test)"
      ]
    },
    {
      "cell_type": "code",
      "execution_count": null,
      "id": "24b3bcd5",
      "metadata": {
        "id": "24b3bcd5"
      },
      "outputs": [],
      "source": [
        "tree_train_pred=pd.DataFrame({'actual' : Y_test, 'pred' : Y_pred_test})\n",
        "tree_train_pred"
      ]
    },
    {
      "cell_type": "code",
      "execution_count": null,
      "id": "082ca4cb",
      "metadata": {
        "id": "082ca4cb"
      },
      "outputs": [],
      "source": [
        "from pandas import read_csv\n",
        "from sklearn.model_selection import KFold\n",
        "from sklearn.model_selection import cross_val_score\n",
        "from sklearn.ensemble import RandomForestClassifier\n",
        "\n",
        "X = array[:,1:10]\n",
        "Y = array[:,0]\n",
        "\n",
        "model = RandomForestClassifier(n_estimators=100, max_features=3)\n",
        "result1 = cross_val_score(model, X, Y, cv=10)\n",
        "print(result1.mean())"
      ]
    },
    {
      "cell_type": "code",
      "execution_count": null,
      "id": "26802b79",
      "metadata": {
        "id": "26802b79"
      },
      "outputs": [],
      "source": [
        "model.fit(X_train, Y_train)"
      ]
    },
    {
      "cell_type": "code",
      "execution_count": null,
      "id": "09034e55",
      "metadata": {
        "id": "09034e55"
      },
      "outputs": [],
      "source": [
        "preds = model.predict(X_test)"
      ]
    },
    {
      "cell_type": "code",
      "execution_count": null,
      "id": "6707b23c",
      "metadata": {
        "id": "6707b23c"
      },
      "outputs": [],
      "source": [
        "from sklearn.metrics import classification_report, confusion_matrix\n",
        "print(classification_report(Y_test, preds))"
      ]
    },
    {
      "cell_type": "code",
      "execution_count": null,
      "id": "737839c3",
      "metadata": {
        "id": "737839c3"
      },
      "outputs": [],
      "source": [
        "from sklearn.model_selection import GridSearchCV, RandomizedSearchCV\n",
        "from sklearn import metrics\n",
        "\n",
        "params_grid = {\"n_estimators\": [200, 250, 400],\n",
        "    \"max_depth\": [5, 7, 9, 10],\n",
        "    \"min_samples_leaf\": range(2, 9),\n",
        "    \"min_samples_split\": [4, 8, 10, 12, 15, 18],\n",
        "    \"max_leaf_nodes\": range(4, 8)}\n",
        "\n",
        "dt_estimator = RandomizedSearchCV(RandomForestClassifier(random_state=0), param_distributions=params_grid, cv=10, random_state=0, n_jobs=-1 )\n",
        "\n",
        "dt_estimator.fit(X_train, Y_train)"
      ]
    },
    {
      "cell_type": "code",
      "execution_count": null,
      "id": "bfbcea9b",
      "metadata": {
        "id": "bfbcea9b"
      },
      "outputs": [],
      "source": [
        "dt_estimator.best_params_"
      ]
    },
    {
      "cell_type": "code",
      "execution_count": null,
      "id": "becfe3ab",
      "metadata": {
        "id": "becfe3ab"
      },
      "outputs": [],
      "source": [
        "pred1 = dt_estimator.predict(X_test)"
      ]
    },
    {
      "cell_type": "code",
      "execution_count": null,
      "id": "9ba0da0c",
      "metadata": {
        "id": "9ba0da0c"
      },
      "outputs": [],
      "source": [
        "print(classification_report(Y_test,pred1))"
      ]
    }
  ],
  "metadata": {
    "kernelspec": {
      "display_name": "Python 3 (ipykernel)",
      "language": "python",
      "name": "python3"
    },
    "language_info": {
      "codemirror_mode": {
        "name": "ipython",
        "version": 3
      },
      "file_extension": ".py",
      "mimetype": "text/x-python",
      "name": "python",
      "nbconvert_exporter": "python",
      "pygments_lexer": "ipython3",
      "version": "3.9.13"
    },
    "colab": {
      "provenance": []
    }
  },
  "nbformat": 4,
  "nbformat_minor": 5
}