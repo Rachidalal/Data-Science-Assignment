{
  "cells": [
    {
      "cell_type": "code",
      "execution_count": null,
      "id": "3ee2d70c",
      "metadata": {
        "id": "3ee2d70c"
      },
      "outputs": [],
      "source": [
        "import pandas as pd\n",
        "import numpy as np\n",
        "from sklearn.ensemble import BaggingClassifier\n",
        "from sklearn.tree import DecisionTreeClassifier\n",
        "from sklearn.model_selection import cross_val_score, KFold\n",
        "from sklearn.model_selection import train_test_split"
      ]
    },
    {
      "cell_type": "code",
      "execution_count": null,
      "id": "e536119e",
      "metadata": {
        "id": "e536119e"
      },
      "outputs": [],
      "source": [
        "Fraud=pd.read_csv(\"Fraud_check.csv\")\n",
        "Fraud"
      ]
    },
    {
      "cell_type": "code",
      "execution_count": null,
      "id": "a6069467",
      "metadata": {
        "id": "a6069467"
      },
      "outputs": [],
      "source": [
        "Fraud=pd.get_dummies(Fraud,columns=['Undergrad','Marital.Status','Urban'], drop_first=True)\n",
        "Fraud[\"TaxInc\"] = pd.cut(Fraud[\"Taxable.Income\"], bins = [10002,30000,99620], labels = [\"Risky\", \"Good\"])\n",
        "print(Fraud)"
      ]
    },
    {
      "cell_type": "code",
      "execution_count": null,
      "id": "bb9640c0",
      "metadata": {
        "id": "bb9640c0"
      },
      "outputs": [],
      "source": [
        "Fraud = pd.get_dummies(Fraud,columns = [\"TaxInc\"],drop_first=True)\n",
        "Fraud.tail(10)"
      ]
    },
    {
      "cell_type": "code",
      "execution_count": null,
      "id": "62c9267d",
      "metadata": {
        "id": "62c9267d"
      },
      "outputs": [],
      "source": [
        "def norm_func(i):\n",
        "    x = (i-i.min())/(i.max()-i.min())\n",
        "    return (x)\n",
        "Fraud_norm = norm_func(Fraud.iloc[:,1:])\n",
        "Fraud_norm.tail(10)"
      ]
    },
    {
      "cell_type": "code",
      "execution_count": null,
      "id": "df92ff8d",
      "metadata": {
        "id": "df92ff8d"
      },
      "outputs": [],
      "source": [
        "X = Fraud_norm.drop(['TaxInc_Good'], axis=1)\n",
        "Y = Fraud_norm['TaxInc_Good']"
      ]
    },
    {
      "cell_type": "code",
      "execution_count": 1,
      "id": "b4e4ea87",
      "metadata": {
        "colab": {
          "base_uri": "https://localhost:8080/",
          "height": 263
        },
        "id": "b4e4ea87",
        "outputId": "201d51f6-3574-4bf8-ce8a-aca2398cbe01"
      },
      "outputs": [
        {
          "output_type": "error",
          "ename": "NameError",
          "evalue": "ignored",
          "traceback": [
            "\u001b[0;31m---------------------------------------------------------------------------\u001b[0m",
            "\u001b[0;31mNameError\u001b[0m                                 Traceback (most recent call last)",
            "\u001b[0;32m<ipython-input-1-b006501e22a0>\u001b[0m in \u001b[0;36m<cell line: 1>\u001b[0;34m()\u001b[0m\n\u001b[0;32m----> 1\u001b[0;31m \u001b[0mcart\u001b[0m \u001b[0;34m=\u001b[0m \u001b[0mDecisionTreeClassifier\u001b[0m\u001b[0;34m(\u001b[0m\u001b[0;34m)\u001b[0m\u001b[0;34m\u001b[0m\u001b[0;34m\u001b[0m\u001b[0m\n\u001b[0m\u001b[1;32m      2\u001b[0m \u001b[0;34m\u001b[0m\u001b[0m\n\u001b[1;32m      3\u001b[0m \u001b[0mmodel\u001b[0m \u001b[0;34m=\u001b[0m \u001b[0mBaggingClassifier\u001b[0m\u001b[0;34m(\u001b[0m\u001b[0mbase_estimator\u001b[0m\u001b[0;34m=\u001b[0m\u001b[0mcart\u001b[0m\u001b[0;34m,\u001b[0m \u001b[0mn_estimators\u001b[0m\u001b[0;34m=\u001b[0m\u001b[0;36m100\u001b[0m\u001b[0;34m,\u001b[0m \u001b[0mrandom_state\u001b[0m\u001b[0;34m=\u001b[0m\u001b[0;36m7\u001b[0m\u001b[0;34m)\u001b[0m\u001b[0;34m\u001b[0m\u001b[0;34m\u001b[0m\u001b[0m\n\u001b[1;32m      4\u001b[0m \u001b[0;34m\u001b[0m\u001b[0m\n\u001b[1;32m      5\u001b[0m \u001b[0mresults\u001b[0m \u001b[0;34m=\u001b[0m \u001b[0mcross_val_score\u001b[0m\u001b[0;34m(\u001b[0m\u001b[0mmodel\u001b[0m\u001b[0;34m,\u001b[0m \u001b[0mX\u001b[0m\u001b[0;34m,\u001b[0m\u001b[0mY\u001b[0m\u001b[0;34m,\u001b[0m \u001b[0mcv\u001b[0m\u001b[0;34m=\u001b[0m\u001b[0;36m5\u001b[0m\u001b[0;34m)\u001b[0m\u001b[0;34m\u001b[0m\u001b[0;34m\u001b[0m\u001b[0m\n",
            "\u001b[0;31mNameError\u001b[0m: name 'DecisionTreeClassifier' is not defined"
          ]
        }
      ],
      "source": [
        "cart = DecisionTreeClassifier()\n",
        "model = BaggingClassifier(base_estimator=cart, n_estimators=100, random_state=7)\n",
        "results = cross_val_score(model, X,Y, cv=5)\n",
        "print(results.mean())"
      ]
    },
    {
      "cell_type": "code",
      "execution_count": null,
      "id": "4c52458c",
      "metadata": {
        "id": "4c52458c"
      },
      "outputs": [],
      "source": [
        "X_train, X_test, Y_train, Y_test = train_test_split(X,Y, test_size=0.2,random_state=40)"
      ]
    },
    {
      "cell_type": "code",
      "execution_count": null,
      "id": "1b7f0074",
      "metadata": {
        "id": "1b7f0074"
      },
      "outputs": [],
      "source": [
        "Fraud_norm[\"income\"]=\"<=30000\"\n",
        "Fraud_norm.loc[Fraud[\"Taxable.Income\"]>=30000,\"income\"]=\"Good\"\n",
        "Fraud_norm.loc[Fraud[\"Taxable.Income\"]<=30000,\"income\"]=\"Risky\""
      ]
    },
    {
      "cell_type": "code",
      "execution_count": null,
      "id": "6ce633fe",
      "metadata": {
        "id": "6ce633fe"
      },
      "outputs": [],
      "source": [
        "Fraud.drop([\"Taxable.Income\"],axis=1,inplace=True)"
      ]
    },
    {
      "cell_type": "code",
      "execution_count": null,
      "id": "9d56b3f2",
      "metadata": {
        "id": "9d56b3f2"
      },
      "outputs": [],
      "source": [
        "Fraud.rename(columns={\"Undergrad\":\"undergrad\",\"Marital.Status\":\"marital\",\"City.Population\":\"population\",\"Work.Experience\":\"experience\",\"Urban\":\"urban\"},inplace=True)\n",
        "Fraud"
      ]
    },
    {
      "cell_type": "code",
      "execution_count": null,
      "id": "2b39f4f5",
      "metadata": {
        "id": "2b39f4f5"
      },
      "outputs": [],
      "source": [
        "from sklearn import preprocessing\n",
        "le=preprocessing.LabelEncoder()\n",
        "for column_name in Fraud.columns:\n",
        "    if Fraud[column_name].dtype == object:\n",
        "        Fraud[column_name] = le.fit_transform(Fraud[column_name])\n",
        "    else:\n",
        "        pass\n",
        "\n",
        "features = Fraud.iloc[:,0:5]\n",
        "labels = Fraud.iloc[:,5]\n",
        "\n",
        "colnames = list(Fraud.columns)\n",
        "predictors = colnames[0:5]\n",
        "target = colnames[5]"
      ]
    },
    {
      "cell_type": "code",
      "execution_count": null,
      "id": "7532aa53",
      "metadata": {
        "id": "7532aa53"
      },
      "outputs": [],
      "source": [
        "X_train, X_test, Y_train, Y_test = train_test_split(features, labels, test_size=0.2, stratify=labels, random_state=42)"
      ]
    },
    {
      "cell_type": "code",
      "execution_count": null,
      "id": "71160edc",
      "metadata": {
        "id": "71160edc"
      },
      "outputs": [],
      "source": [
        "X_train.shape, X_test.shape, Y_train.shape, Y_test.shape"
      ]
    },
    {
      "cell_type": "code",
      "execution_count": null,
      "id": "61103bc4",
      "metadata": {
        "id": "61103bc4"
      },
      "outputs": [],
      "source": [
        "bg_clf=BaggingClassifier(base_estimator=cart, n_estimators=100, random_state=42)\n",
        "bg_clf.fit(X_train, Y_train)"
      ]
    },
    {
      "cell_type": "code",
      "execution_count": null,
      "id": "c84aa733",
      "metadata": {
        "id": "c84aa733"
      },
      "outputs": [],
      "source": [
        "Y_pred_test=bg_clf.predict(X_test)"
      ]
    },
    {
      "cell_type": "code",
      "execution_count": null,
      "id": "b22c73a9",
      "metadata": {
        "id": "b22c73a9"
      },
      "outputs": [],
      "source": [
        "tree_train_pred=pd.DataFrame({'actual' : Y_test, 'pred' : Y_pred_test})\n",
        "tree_train_pred"
      ]
    },
    {
      "cell_type": "code",
      "execution_count": null,
      "id": "9ea50c14",
      "metadata": {
        "id": "9ea50c14"
      },
      "outputs": [],
      "source": [
        "from pandas import read_csv\n",
        "from sklearn.model_selection import KFold\n",
        "from sklearn.model_selection import cross_val_score\n",
        "from sklearn.ensemble import RandomForestClassifier\n",
        "\n",
        "X = Fraud_norm.drop(['TaxInc_Good'], axis=1)\n",
        "Y = Fraud_norm['TaxInc_Good']\n",
        "\n",
        "model = RandomForestClassifier(n_estimators=100, max_features=3)\n",
        "result1 = cross_val_score(model, X, Y, cv=10)\n",
        "print(result1.mean())"
      ]
    },
    {
      "cell_type": "code",
      "execution_count": null,
      "id": "733bb30f",
      "metadata": {
        "id": "733bb30f"
      },
      "outputs": [],
      "source": [
        "model.fit(X_train, Y_train)"
      ]
    },
    {
      "cell_type": "code",
      "execution_count": null,
      "id": "491112a8",
      "metadata": {
        "id": "491112a8"
      },
      "outputs": [],
      "source": [
        "preds = model.predict(X_test)"
      ]
    },
    {
      "cell_type": "code",
      "execution_count": null,
      "id": "a86e6f26",
      "metadata": {
        "id": "a86e6f26"
      },
      "outputs": [],
      "source": [
        "from sklearn.metrics import classification_report, confusion_matrix\n",
        "print(classification_report(Y_test, preds))"
      ]
    },
    {
      "cell_type": "code",
      "execution_count": null,
      "id": "24468c0a",
      "metadata": {
        "id": "24468c0a"
      },
      "outputs": [],
      "source": [
        "from sklearn.model_selection import GridSearchCV, RandomizedSearchCV\n",
        "from sklearn import metrics\n",
        "\n",
        "params_grid = {\"n_estimators\": [200, 250, 400, 500, 800, 1000],\n",
        "    \"max_depth\": [5, 7, 9, 10, 12, 14],\n",
        "    \"min_samples_leaf\": range(2, 10),\n",
        "    \"min_samples_split\": [4, 8, 10, 12, 15, 18, 20],\n",
        "    \"max_leaf_nodes\": range(4, 21)}\n",
        "\n",
        "dt_estimator = RandomizedSearchCV(RandomForestClassifier(random_state=0), param_distributions=params_grid, cv=10, random_state=0, n_jobs=-1 )\n",
        "\n",
        "dt_estimator.fit(X_train, Y_train)"
      ]
    },
    {
      "cell_type": "code",
      "execution_count": null,
      "id": "0a24adda",
      "metadata": {
        "id": "0a24adda"
      },
      "outputs": [],
      "source": [
        "dt_estimator.best_params_"
      ]
    },
    {
      "cell_type": "code",
      "execution_count": null,
      "id": "0fcb8667",
      "metadata": {
        "id": "0fcb8667"
      },
      "outputs": [],
      "source": [
        "pred1 = dt_estimator.predict(X_test)"
      ]
    },
    {
      "cell_type": "code",
      "execution_count": null,
      "id": "4b2b86f4",
      "metadata": {
        "id": "4b2b86f4"
      },
      "outputs": [],
      "source": [
        "print(classification_report(Y_test,pred1))"
      ]
    }
  ],
  "metadata": {
    "kernelspec": {
      "display_name": "Python 3 (ipykernel)",
      "language": "python",
      "name": "python3"
    },
    "language_info": {
      "codemirror_mode": {
        "name": "ipython",
        "version": 3
      },
      "file_extension": ".py",
      "mimetype": "text/x-python",
      "name": "python",
      "nbconvert_exporter": "python",
      "pygments_lexer": "ipython3",
      "version": "3.9.13"
    },
    "colab": {
      "provenance": []
    }
  },
  "nbformat": 4,
  "nbformat_minor": 5
}