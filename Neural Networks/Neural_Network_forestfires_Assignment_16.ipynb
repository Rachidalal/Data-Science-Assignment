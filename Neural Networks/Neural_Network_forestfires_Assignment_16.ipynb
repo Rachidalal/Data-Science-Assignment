{
  "nbformat": 4,
  "nbformat_minor": 0,
  "metadata": {
    "colab": {
      "provenance": []
    },
    "kernelspec": {
      "name": "python3",
      "display_name": "Python 3"
    },
    "language_info": {
      "name": "python"
    }
  },
  "cells": [
    {
      "cell_type": "code",
      "execution_count": null,
      "metadata": {
        "id": "Q0-Uwgx5J3G7"
      },
      "outputs": [],
      "source": [
        "import pandas as pd\n",
        "import numpy as np\n",
        "from sklearn.model_selection import train_test_split, cross_val_score\n",
        "import seaborn as sns\n",
        "import keras\n",
        "from keras.models import Sequential\n",
        "from keras.layers import Dense\n",
        "from matplotlib import pyplot as plt\n",
        "%matplotlib inline\n",
        "from sklearn.decomposition import PCA\n",
        "import tensorflow as tf\n",
        "tf.debugging.set_log_device_placement(False)\n",
        "import warnings\n",
        "warnings.filterwarnings('ignore')\n",
        "Assignments21:57\n"
      ]
    },
    {
      "cell_type": "code",
      "source": [
        "tf.random.set_seed(14)"
      ],
      "metadata": {
        "id": "akyRKcL1KPt4"
      },
      "execution_count": null,
      "outputs": []
    },
    {
      "cell_type": "code",
      "source": [
        "forest=pd.read_csv(\"forestfires.csv\")\n",
        "forest.head()"
      ],
      "metadata": {
        "id": "fn0DXl7oKqb3"
      },
      "execution_count": null,
      "outputs": []
    },
    {
      "cell_type": "code",
      "source": [
        "df = forest.copy()\n",
        "df.drop(df.columns[11:30],axis=1,inplace = True)"
      ],
      "metadata": {
        "id": "ljGh52GXKUrp"
      },
      "execution_count": null,
      "outputs": []
    },
    {
      "cell_type": "code",
      "source": [
        "df.info()"
      ],
      "metadata": {
        "id": "gLoEol3TL1xB"
      },
      "execution_count": null,
      "outputs": []
    },
    {
      "cell_type": "code",
      "source": [
        "df.columns"
      ],
      "metadata": {
        "id": "-nrA_fDML6F4"
      },
      "execution_count": null,
      "outputs": []
    },
    {
      "cell_type": "code",
      "source": [
        "df.describe"
      ],
      "metadata": {
        "id": "jpTJYMdkL8IB"
      },
      "execution_count": null,
      "outputs": []
    },
    {
      "cell_type": "code",
      "source": [
        "df.month.value_counts()"
      ],
      "metadata": {
        "id": "ZU-bUY9NMC7V"
      },
      "execution_count": null,
      "outputs": []
    },
    {
      "cell_type": "code",
      "source": [
        "df.isnull().sum()"
      ],
      "metadata": {
        "id": "6ePhaUbqMTo8"
      },
      "execution_count": null,
      "outputs": []
    },
    {
      "cell_type": "code",
      "source": [
        "df.size_category.value_counts()"
      ],
      "metadata": {
        "id": "ESpD1kJZMYYF"
      },
      "execution_count": null,
      "outputs": []
    },
    {
      "cell_type": "code",
      "source": [
        "from sklearn import preprocessing\n",
        "label_encoder = preprocessing.LabelEncoder()\n",
        "df.month= label_encoder.fit_transform(df.month)\n",
        "df.day= label_encoder.fit_transform(df.day)\n",
        "df.size_category= label_encoder.fit_transform(df.size_category)\n",
        "df.head()"
      ],
      "metadata": {
        "id": "cTLxVPADMd9x"
      },
      "execution_count": null,
      "outputs": []
    },
    {
      "cell_type": "code",
      "source": [
        "from imblearn.combine import SMOTETomek\n",
        "from collections import Counter"
      ],
      "metadata": {
        "id": "3GGgFzkRMgkc"
      },
      "execution_count": null,
      "outputs": []
    },
    {
      "cell_type": "code",
      "source": [
        "resamp = df.copy()"
      ],
      "metadata": {
        "id": "AnTIhGbpMs6b"
      },
      "execution_count": null,
      "outputs": []
    },
    {
      "cell_type": "code",
      "source": [
        "a = resamp.iloc[:,:-1]\n",
        "b = resamp.iloc[:,-1]"
      ],
      "metadata": {
        "id": "75Y0tzZvMx-q"
      },
      "execution_count": null,
      "outputs": []
    },
    {
      "cell_type": "code",
      "source": [
        "print(Counter(b))"
      ],
      "metadata": {
        "id": "FN0qR4d9Nbvr"
      },
      "execution_count": null,
      "outputs": []
    },
    {
      "cell_type": "code",
      "source": [
        "smt = SMOTETomek(sampling_strategy = 'auto')\n",
        "a, b = smt.fit_resample(a, b)"
      ],
      "metadata": {
        "id": "iw_IUO9ENhdg"
      },
      "execution_count": null,
      "outputs": []
    },
    {
      "cell_type": "code",
      "source": [
        "print(Counter(b))"
      ],
      "metadata": {
        "id": "fG2yoO6ZNlqX"
      },
      "execution_count": null,
      "outputs": []
    },
    {
      "cell_type": "code",
      "source": [
        "X = a\n",
        "Y = b\n",
        "X_train, X_test, y_train, y_test = train_test_split(X,Y, test_size = 0.3)"
      ],
      "metadata": {
        "id": "apxoSp7zNtm4"
      },
      "execution_count": null,
      "outputs": []
    },
    {
      "cell_type": "code",
      "source": [
        "                            # create model\n",
        "model = Sequential()\n",
        "model.add(Dense(14, input_dim=11, kernel_initializer='uniform', activation='relu'))\n",
        "model.add(Dense(12,kernel_initializer='uniform', activation='relu'))\n",
        "model.add(Dense(1, kernel_initializer='uniform', activation='sigmoid'))"
      ],
      "metadata": {
        "id": "i1uWpcSXNzNb"
      },
      "execution_count": null,
      "outputs": []
    },
    {
      "cell_type": "code",
      "source": [
        "model.compile(loss='binary_crossentropy', optimizer='adam', metrics=['accuracy'])"
      ],
      "metadata": {
        "id": "50p1JnXdN4Xq"
      },
      "execution_count": null,
      "outputs": []
    },
    {
      "cell_type": "code",
      "source": [
        "hist = model.fit(X_train, y_train, validation_split=0.33, epochs=50, batch_size=10)\n",
        "test_loss, test_acc = model.evaluate(X_test, y_test)"
      ],
      "metadata": {
        "id": "z_AhiNMON-YP"
      },
      "execution_count": null,
      "outputs": []
    },
    {
      "cell_type": "code",
      "source": [
        "print(hist.history.keys())\n",
        "hist_df = pd.DataFrame(hist.history)\n",
        "hist_df[\"epoch\"]=hist.epoch\n",
        "hist_df.tail()"
      ],
      "metadata": {
        "id": "_WrDy_-vOFjG"
      },
      "execution_count": null,
      "outputs": []
    },
    {
      "cell_type": "code",
      "source": [
        "plt.figure(figsize = (14, 6));\n",
        "sns.heatmap(df.corr(), cmap='magma', annot=True, fmt=\".3f\")\n",
        "plt.show()"
      ],
      "metadata": {
        "id": "-TbbXbieON6x"
      },
      "execution_count": null,
      "outputs": []
    },
    {
      "cell_type": "code",
      "source": [
        "plt.plot(hist.history['accuracy'])\n",
        "plt.plot(hist.history['val_accuracy'])\n",
        "plt.title('model accuracy')\n",
        "plt.ylabel('accuracy')\n",
        "plt.xlabel('epoch')\n",
        "plt.legend(['train', 'test'], loc='upper left')\n",
        "plt.show()"
      ],
      "metadata": {
        "id": "7CMEPIYyOVWw"
      },
      "execution_count": null,
      "outputs": []
    },
    {
      "cell_type": "code",
      "source": [
        "plt.plot(hist.history['loss'])\n",
        "plt.plot(hist.history['val_loss'])\n",
        "plt.title('model loss')\n",
        "plt.ylabel('loss')\n",
        "plt.xlabel('epoch')\n",
        "plt.legend(['train', 'test'], loc='upper left')"
      ],
      "metadata": {
        "id": "dyTs0GyTOcUo"
      },
      "execution_count": null,
      "outputs": []
    }
  ]
}