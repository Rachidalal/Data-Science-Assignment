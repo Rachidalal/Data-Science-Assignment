{
  "nbformat": 4,
  "nbformat_minor": 0,
  "metadata": {
    "colab": {
      "provenance": []
    },
    "kernelspec": {
      "name": "python3",
      "display_name": "Python 3"
    },
    "language_info": {
      "name": "python"
    }
  },
  "cells": [
    {
      "cell_type": "code",
      "source": [
        "import keras\n",
        "import pandas as pd\n",
        "import numpy as np\n",
        "from sklearn.model_selection import train_test_split, cross_val_score\n",
        "import seaborn as sns\n",
        "from matplotlib import pyplot as plt\n",
        "%matplotlib inline\n",
        "from keras.models import Sequential\n",
        "from keras.layers import Dense\n",
        "import tensorflow as tf\n",
        "tf.debugging.set_log_device_placement(False)\n",
        "import warnings\n",
        "warnings.filterwarnings('ignore')"
      ],
      "metadata": {
        "id": "aZR-R8VLDgwj"
      },
      "execution_count": null,
      "outputs": []
    },
    {
      "cell_type": "code",
      "source": [
        "tf.random.set_seed(14)"
      ],
      "metadata": {
        "id": "AkCwW-VJDzd4"
      },
      "execution_count": null,
      "outputs": []
    },
    {
      "cell_type": "code",
      "source": [
        "raw = pd.read_csv(\"gas_turbines.csv\")\n",
        "raw.head()"
      ],
      "metadata": {
        "id": "WcqeWgI4D1HT"
      },
      "execution_count": null,
      "outputs": []
    },
    {
      "cell_type": "code",
      "source": [
        "df = raw.copy()\n",
        "df = df.drop(['AFDP','GTEP','TIT','TAT','CDP','CO','NOX'],axis=1)\n",
        "df.head()"
      ],
      "metadata": {
        "id": "ZqLGAnvGEJZj"
      },
      "execution_count": null,
      "outputs": []
    },
    {
      "cell_type": "code",
      "source": [
        "df.info()"
      ],
      "metadata": {
        "id": "eBoa9DWYEOM6"
      },
      "execution_count": null,
      "outputs": []
    },
    {
      "cell_type": "code",
      "source": [
        "df.describe()"
      ],
      "metadata": {
        "id": "3XGE8prZERZ9"
      },
      "execution_count": null,
      "outputs": []
    },
    {
      "cell_type": "code",
      "source": [
        "X =df.iloc[:,:-1]\n",
        "Y = df.iloc[:,-1]"
      ],
      "metadata": {
        "id": "AwPQQ6KCEUU4"
      },
      "execution_count": null,
      "outputs": []
    },
    {
      "cell_type": "code",
      "source": [
        "X_train, X_test, y_train, y_test = train_test_split(X,Y, test_size = 0.3)"
      ],
      "metadata": {
        "id": "3c3sGH97EX8A"
      },
      "execution_count": null,
      "outputs": []
    },
    {
      "cell_type": "code",
      "source": [
        "y_train=np.reshape(y_train.to_numpy(), (-1,1))\n",
        "y_test=np.reshape(y_test.to_numpy(), (-1,1))"
      ],
      "metadata": {
        "id": "6iC3yg0GEbxE"
      },
      "execution_count": null,
      "outputs": []
    },
    {
      "cell_type": "code",
      "source": [
        "from sklearn.preprocessing import MinMaxScaler\n",
        "scaler_x = MinMaxScaler()\n",
        "scaler_y = MinMaxScaler()"
      ],
      "metadata": {
        "id": "bM_s8Sp5EgFo"
      },
      "execution_count": null,
      "outputs": []
    },
    {
      "cell_type": "code",
      "source": [
        "print(scaler_x.fit(X_train))\n",
        "xtrain_scale=scaler_x.transform(X_train)\n",
        "print(scaler_x.fit(X_test))\n",
        "xtest_scale=scaler_x.transform(X_test)\n",
        "print(scaler_y.fit(y_train))\n",
        "ytrain_scale=scaler_y.transform(y_train)\n",
        "print(scaler_y.fit(y_test))\n",
        "ytest_scale=scaler_y.transform(y_test)\n",
        "len(xtrain_scale)"
      ],
      "metadata": {
        "colab": {
          "base_uri": "https://localhost:8080/"
        },
        "id": "uJVEcyNTEntQ",
        "outputId": "fc442a54-22de-443b-e442-d22620d4651e"
      },
      "execution_count": null,
      "outputs": [
        {
          "output_type": "stream",
          "name": "stdout",
          "text": [
            "MinMaxScaler()\n",
            "MinMaxScaler()\n",
            "MinMaxScaler()\n",
            "MinMaxScaler()\n"
          ]
        },
        {
          "output_type": "execute_result",
          "data": {
            "text/plain": [
              "10527"
            ]
          },
          "metadata": {},
          "execution_count": 29
        }
      ]
    },
    {
      "cell_type": "code",
      "source": [
        "                        # create model\n",
        "model1 = Sequential()\n",
        "model1.add(Dense(4, input_dim=3, kernel_initializer='normal', activation='relu'))\n",
        "model1.add(Dense(2106,kernel_initializer='normal', activation='relu'))\n",
        "model1.add(Dense(1, activation='linear'))\n",
        "\n",
        "\n",
        "model1.compile(loss='mean_squared_error', optimizer='adam', metrics=['mse','mae'])\n",
        "\n",
        "\n",
        "hist1 = model1.fit(xtrain_scale, ytrain_scale, validation_split=0.33, epochs=100, batch_size=150)"
      ],
      "metadata": {
        "id": "i7aULjD8FHJS"
      },
      "execution_count": null,
      "outputs": []
    },
    {
      "cell_type": "code",
      "source": [
        "model1.summary()\n",
        "y_predict = model1.predict(xtest_scale)\n",
        "print(hist1.history.keys())"
      ],
      "metadata": {
        "id": "6XJdyIQxFR2j"
      },
      "execution_count": null,
      "outputs": []
    },
    {
      "cell_type": "code",
      "source": [
        "hist1_df = pd.DataFrame(hist1.history)\n",
        "hist1_df[\"epoch\"]=hist1.epoch\n",
        "hist1_df.tail()"
      ],
      "metadata": {
        "id": "O3zv5g09FmrX"
      },
      "execution_count": null,
      "outputs": []
    },
    {
      "cell_type": "code",
      "source": [
        "sns.set(rc={'figure.figsize':(6,4)})\n",
        "\n",
        "plt.plot(hist1.history['loss'])\n",
        "plt.plot(hist1.history['val_loss'])\n",
        "plt.title('model1 loss')\n",
        "plt.ylabel('loss')\n",
        "plt.xlabel('epoch')\n",
        "plt.legend(['train', 'test'], loc='upper left')\n",
        "plt.show()"
      ],
      "metadata": {
        "id": "-tCUKWp5FuL6"
      },
      "execution_count": null,
      "outputs": []
    },
    {
      "cell_type": "code",
      "source": [
        "plt.plot(hist1.history['mse'])\n",
        "plt.plot(hist1.history['val_mse'])\n",
        "plt.title('model1 mse')\n",
        "plt.ylabel('mse')\n",
        "plt.xlabel('epoch')\n",
        "plt.legend(['train', 'test'], loc='upper left')\n",
        "plt.show()"
      ],
      "metadata": {
        "id": "Ak1QWts0F18W"
      },
      "execution_count": null,
      "outputs": []
    }
  ]
}