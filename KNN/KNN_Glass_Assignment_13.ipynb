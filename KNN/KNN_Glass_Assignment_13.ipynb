{
  "nbformat": 4,
  "nbformat_minor": 0,
  "metadata": {
    "colab": {
      "provenance": []
    },
    "kernelspec": {
      "name": "python3",
      "display_name": "Python 3"
    },
    "language_info": {
      "name": "python"
    }
  },
  "cells": [
    {
      "cell_type": "code",
      "execution_count": null,
      "metadata": {
        "id": "U5a4z1bGualh"
      },
      "outputs": [],
      "source": [
        "import numpy as np\n",
        "import pandas as pd\n",
        "import matplotlib.pyplot as plt\n",
        "import seaborn as sns\n",
        "\n",
        "import warnings\n",
        "warnings.filterwarnings(\"ignore\")"
      ]
    },
    {
      "cell_type": "code",
      "source": [
        "data = pd.read_csv(\"glass.csv\")"
      ],
      "metadata": {
        "id": "pZxMswOUvWSW"
      },
      "execution_count": null,
      "outputs": []
    },
    {
      "cell_type": "code",
      "source": [
        "data"
      ],
      "metadata": {
        "id": "mWmAxH7svWT4"
      },
      "execution_count": null,
      "outputs": []
    },
    {
      "cell_type": "code",
      "source": [
        "# İnformation of Data\n",
        "data.info()"
      ],
      "metadata": {
        "id": "OMZBW0AnvWXS"
      },
      "execution_count": null,
      "outputs": []
    },
    {
      "cell_type": "code",
      "source": [
        "# Dataset Values(Max, min, std..)\n",
        "data.describe()"
      ],
      "metadata": {
        "id": "7irl6zOjvWYk"
      },
      "execution_count": null,
      "outputs": []
    },
    {
      "cell_type": "code",
      "source": [
        "# Data Correlation: Relationship between columns\n",
        "data.corr()"
      ],
      "metadata": {
        "id": "-FksTpBRvWcP"
      },
      "execution_count": null,
      "outputs": []
    },
    {
      "cell_type": "code",
      "source": [
        "# Visualization of correlation result with seaborn library heatmap.\n",
        "f, ax = plt.subplots(figsize = (12,10))\n",
        "sns.heatmap(data.corr(), annot = True, linewidths = 0.5, linecolor = \"black\", fmt = \".4f\", ax = ax)\n",
        "plt.show()"
      ],
      "metadata": {
        "id": "SN2P9DP_vWdh"
      },
      "execution_count": null,
      "outputs": []
    },
    {
      "cell_type": "code",
      "source": [
        "# Visualization of correlation results with seaborn library pairplot.\n",
        "sns.pairplot(data, hue = 'Type')"
      ],
      "metadata": {
        "id": "TWGW22CUvWgu"
      },
      "execution_count": null,
      "outputs": []
    },
    {
      "cell_type": "code",
      "source": [
        "# Dataset columns names\n",
        "data.columns"
      ],
      "metadata": {
        "id": "F_9MwvAyvWiU"
      },
      "execution_count": null,
      "outputs": []
    },
    {
      "cell_type": "code",
      "source": [
        "#Data Visualization\n",
        "dataType = data[\"Type\"].value_counts(dropna=False)\n",
        "dataTypedf = np.array(dataType)\n",
        "x = list(dataTypedf)\n",
        "y = data.Type.value_counts().index\n",
        "\n",
        "plt.figure(figsize=(7,5))\n",
        "sns.barplot(x = y, y = x, palette = sns.cubehelix_palette(len(x)))\n",
        "plt.xlabel(\"Number of Type\")\n",
        "plt.ylabel(\"Number\")\n",
        "plt.title(\"The Number Of Type In Data\")\n",
        "plt.show()"
      ],
      "metadata": {
        "id": "bfnzoCMhvWlq"
      },
      "execution_count": null,
      "outputs": []
    },
    {
      "cell_type": "code",
      "source": [
        "One = data[data.Type == 1]\n",
        "Two = data[data.Type == 2]\n",
        "Three = data[data.Type == 3]\n",
        "Four = data[data.Type == 4]\n",
        "Five = data[data.Type == 5]\n",
        "Six = data[data.Type == 6]\n",
        "Seven = data[data.Type == 7]\n",
        "\n",
        "plt.figure(figsize=(10,10))\n",
        "plt.scatter(One.Si, One.Al, color = \"red\", label = \"One\")\n",
        "plt.scatter(Two.Si, Two.Al, color = \"blue\", label = \"Two\")\n",
        "plt.scatter(Three.Si, Three.Al, color = \"orange\", label = \"Three\")\n",
        "plt.scatter(Four.Si, Four.Al, color = \"black\", label = \"Four\")\n",
        "plt.scatter(Five.Si, Five.Al, color = \"yellow\", label = \"Five\")\n",
        "plt.scatter(Six.Si, Six.Al, color = \"purple\", label = \"Six\")\n",
        "plt.scatter(Seven.Si, Seven.Al, color = \"green\", label = \"Seven\")\n",
        "plt.xlabel(\"Sİ\")\n",
        "plt.ylabel(\"AL\")\n",
        "plt.legend()\n",
        "plt.show()"
      ],
      "metadata": {
        "id": "aRH4w6QTvWns"
      },
      "execution_count": null,
      "outputs": []
    },
    {
      "cell_type": "code",
      "source": [
        "#Data preparing for KNN\n",
        "# x_data\n",
        "x_data = data.drop([\"Type\"],axis = 1)\n",
        "\n",
        "# y_data\n",
        "y_data = data.Type.values"
      ],
      "metadata": {
        "id": "SZag2BFevWrH"
      },
      "execution_count": null,
      "outputs": []
    },
    {
      "cell_type": "code",
      "source": [
        "x_data"
      ],
      "metadata": {
        "id": "KGX3I4eJv6Jm"
      },
      "execution_count": null,
      "outputs": []
    },
    {
      "cell_type": "code",
      "source": [
        "y_data"
      ],
      "metadata": {
        "id": "WoLS7Mv7v6qo"
      },
      "execution_count": null,
      "outputs": []
    },
    {
      "cell_type": "code",
      "source": [
        "# Normalization\n",
        "x_data = (x_data - np.min(x_data))/(np.max(x_data) - np.min(x_data)).values\n",
        "x_data"
      ],
      "metadata": {
        "id": "W1MUw7Sxv6sE"
      },
      "execution_count": null,
      "outputs": []
    },
    {
      "cell_type": "code",
      "source": [
        "# train test split\n",
        "from sklearn.model_selection import train_test_split\n",
        "\n",
        "x_train, x_test, y_train, y_test = train_test_split(x_data, y_data, test_size=0.3, random_state=1)\n"
      ],
      "metadata": {
        "id": "IiCvWsiav6vb"
      },
      "execution_count": null,
      "outputs": []
    },
    {
      "cell_type": "code",
      "source": [
        "                            #K-Nearest Neighbors(KNN)\n",
        "                                # Training Model\n",
        "\n",
        "from sklearn.neighbors import KNeighborsClassifier\n",
        "knn = KNeighborsClassifier(n_neighbors=7)\n",
        "\n",
        "knn.fit(x_train, y_train)\n",
        "\n",
        "pretiction = knn.predict(x_test)\n",
        "\n",
        "print(\"{} knn score: {}\".format(7,knn.score(x_test, y_test)))"
      ],
      "metadata": {
        "id": "DmjnFprxv6w9"
      },
      "execution_count": null,
      "outputs": []
    },
    {
      "cell_type": "code",
      "source": [
        "print(\"Shape of X_train: \",x_train.shape)\n",
        "print(\"Shape of X_test: \", x_test.shape)\n",
        "print(\"Shape of y_train: \",y_train.shape)\n",
        "print(\"Shape of y_test\",y_test.shape)"
      ],
      "metadata": {
        "id": "0OBITCNtwNME"
      },
      "execution_count": null,
      "outputs": []
    },
    {
      "cell_type": "code",
      "source": [
        "from sklearn.model_selection import GridSearchCV\n",
        "\n",
        "#In case of classifier like knn the parameter to be tuned is n_neighbors\n",
        "param_grid = {'n_neighbors':np.arange(1,50)}\n",
        "\n",
        "knn3 = KNeighborsClassifier()\n",
        "knn_cv= GridSearchCV(knn3,param_grid,cv=5)\n",
        "knn_cv.fit(x_test,y_test)\n",
        "\n",
        "print(\"Best Score:\" + str(knn_cv.best_score_))\n",
        "print(\"Best Parameters: \" + str(knn_cv.best_params_))"
      ],
      "metadata": {
        "id": "UDWrgIRjwNQn"
      },
      "execution_count": null,
      "outputs": []
    },
    {
      "cell_type": "code",
      "source": [
        "from sklearn.metrics import accuracy_score\n",
        "\n",
        "y_pred_knn_train = knn_cv.predict(x_train)\n",
        "accuracy_knn_train = accuracy_score(y_train, y_pred_knn_train)\n",
        "print(\"Training set: \", accuracy_knn_train)\n",
        "\n",
        "y_pred_knn_test = knn_cv.predict(x_test)\n",
        "accuracy_knn_test = accuracy_score(y_test, y_pred_knn_test)\n",
        "print(\"Test set: \", accuracy_knn_test)"
      ],
      "metadata": {
        "colab": {
          "base_uri": "https://localhost:8080/"
        },
        "id": "vONWyvMgwNTA",
        "outputId": "f493834b-2d4e-4a43-e64f-708fb7b973cd"
      },
      "execution_count": null,
      "outputs": [
        {
          "output_type": "stream",
          "name": "stdout",
          "text": [
            "Training set:  0.5704697986577181\n",
            "Test set:  0.7076923076923077\n"
          ]
        }
      ]
    },
    {
      "cell_type": "code",
      "source": [
        "from sklearn.metrics import confusion_matrix\n",
        "sns.heatmap(confusion_matrix(y_test, y_pred_knn_test), annot=True, cmap = 'viridis', fmt='.0f')\n",
        "plt.show()"
      ],
      "metadata": {
        "id": "25O5V8Dcw9Ld"
      },
      "execution_count": null,
      "outputs": []
    }
  ]
}