{
  "cells": [
    {
      "cell_type": "code",
      "execution_count": null,
      "id": "5558cbd0",
      "metadata": {
        "id": "5558cbd0"
      },
      "outputs": [],
      "source": [
        "import pandas as pd\n",
        "import numpy as np"
      ]
    },
    {
      "cell_type": "code",
      "execution_count": null,
      "id": "96f79e78",
      "metadata": {
        "id": "96f79e78"
      },
      "outputs": [],
      "source": [
        "Train=pd.read_csv(\"SalaryData_Train.csv\")\n",
        "Train"
      ]
    },
    {
      "cell_type": "code",
      "execution_count": null,
      "id": "48d3417a",
      "metadata": {
        "id": "48d3417a"
      },
      "outputs": [],
      "source": [
        "Test=pd.read_csv(\"SalaryData_Test.csv\")\n",
        "Test"
      ]
    },
    {
      "cell_type": "code",
      "execution_count": null,
      "id": "ab2944f9",
      "metadata": {
        "id": "ab2944f9"
      },
      "outputs": [],
      "source": [
        "Train.isnull().sum()"
      ]
    },
    {
      "cell_type": "code",
      "execution_count": null,
      "id": "3402cb14",
      "metadata": {
        "id": "3402cb14"
      },
      "outputs": [],
      "source": [
        "Test.isnull().sum()"
      ]
    },
    {
      "cell_type": "code",
      "execution_count": null,
      "id": "4709015c",
      "metadata": {
        "id": "4709015c"
      },
      "outputs": [],
      "source": [
        "Train.info()"
      ]
    },
    {
      "cell_type": "code",
      "execution_count": null,
      "id": "55a10d03",
      "metadata": {
        "id": "55a10d03"
      },
      "outputs": [],
      "source": [
        "Test.info()"
      ]
    },
    {
      "cell_type": "code",
      "execution_count": null,
      "id": "66aa26d5",
      "metadata": {
        "id": "66aa26d5"
      },
      "outputs": [],
      "source": [
        "Train.shape"
      ]
    },
    {
      "cell_type": "code",
      "execution_count": null,
      "id": "5f510cb6",
      "metadata": {
        "id": "5f510cb6"
      },
      "outputs": [],
      "source": [
        "Test.shape"
      ]
    },
    {
      "cell_type": "code",
      "execution_count": null,
      "id": "0442c67f",
      "metadata": {
        "id": "0442c67f"
      },
      "outputs": [],
      "source": [
        "Train[Train.duplicated()]"
      ]
    },
    {
      "cell_type": "code",
      "execution_count": null,
      "id": "4751dce0",
      "metadata": {
        "id": "4751dce0"
      },
      "outputs": [],
      "source": [
        "Train1 = Train.drop_duplicates()\n",
        "Train1"
      ]
    },
    {
      "cell_type": "code",
      "execution_count": null,
      "id": "9cd69a05",
      "metadata": {
        "id": "9cd69a05"
      },
      "outputs": [],
      "source": [
        "Test[Test.duplicated()]"
      ]
    },
    {
      "cell_type": "code",
      "execution_count": null,
      "id": "309013ac",
      "metadata": {
        "id": "309013ac"
      },
      "outputs": [],
      "source": [
        "Test1 = Test.drop_duplicates()\n",
        "Test1"
      ]
    },
    {
      "cell_type": "code",
      "execution_count": null,
      "id": "24d64dff",
      "metadata": {
        "id": "24d64dff"
      },
      "outputs": [],
      "source": [
        "Train1.shape"
      ]
    },
    {
      "cell_type": "code",
      "execution_count": null,
      "id": "cb78ce41",
      "metadata": {
        "id": "cb78ce41"
      },
      "outputs": [],
      "source": [
        "Test1.shape"
      ]
    },
    {
      "cell_type": "code",
      "execution_count": null,
      "id": "7b038382",
      "metadata": {
        "id": "7b038382"
      },
      "outputs": [],
      "source": [
        "Train2=pd.get_dummies(Train1, columns = ['workclass', 'education', 'maritalstatus', 'occupation', 'relationship', 'race', 'sex', 'native','Salary'])\n",
        "Train2"
      ]
    },
    {
      "cell_type": "code",
      "execution_count": null,
      "id": "f42e56d1",
      "metadata": {
        "id": "f42e56d1"
      },
      "outputs": [],
      "source": [
        "Test2=pd.get_dummies(Test1, columns = ['workclass', 'education', 'maritalstatus', 'occupation', 'relationship', 'race', 'sex', 'native','Salary'])\n",
        "Test2"
      ]
    },
    {
      "cell_type": "code",
      "execution_count": null,
      "id": "b60547c9",
      "metadata": {
        "id": "b60547c9"
      },
      "outputs": [],
      "source": [
        "from sklearn.preprocessing import MinMaxScaler\n",
        "scaler = MinMaxScaler()\n",
        "df1=scaler.fit_transform(Train2)\n",
        "scaled_df1=pd.DataFrame(df1,columns=Train2.columns)\n",
        "scaled_df1.head()"
      ]
    },
    {
      "cell_type": "code",
      "execution_count": null,
      "id": "6c9b268d",
      "metadata": {
        "id": "6c9b268d"
      },
      "outputs": [],
      "source": [
        "from sklearn.preprocessing import MinMaxScaler\n",
        "scaler = MinMaxScaler()\n",
        "df2=scaler.fit_transform(Test2)\n",
        "scaled_df2=pd.DataFrame(df2,columns=Test2.columns)\n",
        "scaled_df2.head()"
      ]
    },
    {
      "cell_type": "code",
      "execution_count": null,
      "id": "774e3fe1",
      "metadata": {
        "id": "774e3fe1"
      },
      "outputs": [],
      "source": [
        "x_train=scaled_df1.iloc[:,0:13]\n",
        "y_train=scaled_df1.iloc[:,13]\n",
        "x_test=scaled_df2.iloc[:,0:13]\n",
        "y_test=scaled_df2.iloc[:,13]"
      ]
    },
    {
      "cell_type": "code",
      "execution_count": null,
      "id": "997e185f",
      "metadata": {
        "id": "997e185f"
      },
      "outputs": [],
      "source": [
        "#MultinomialNB\n",
        "from sklearn.naive_bayes import MultinomialNB as MB\n",
        "from sklearn.metrics import plot_confusion_matrix,classification_report\n",
        "# Using Multinomial Naive Bayes\n",
        "model_mb=MB()\n",
        "model_mb.fit(x_train,y_train)\n",
        "pred_mb=model_mb.predict(x_test)\n",
        "pred_mb"
      ]
    },
    {
      "cell_type": "code",
      "execution_count": null,
      "id": "6980653f",
      "metadata": {
        "id": "6980653f"
      },
      "outputs": [],
      "source": [
        "accuracy_mb=np.mean(pred_mb==y_test)\n",
        "accuracy_mb"
      ]
    },
    {
      "cell_type": "code",
      "execution_count": null,
      "id": "d9252434",
      "metadata": {
        "id": "d9252434"
      },
      "outputs": [],
      "source": [
        "#GaussianNB\n",
        "from sklearn.naive_bayes import GaussianNB\n",
        "model_gnb = GaussianNB()\n",
        "model_gnb.fit(x_train, y_train)\n",
        "pred_gnb = model_gnb.predict(x_test)\n",
        "pred_gnb"
      ]
    },
    {
      "cell_type": "code",
      "execution_count": null,
      "id": "d12a43a5",
      "metadata": {
        "id": "d12a43a5"
      },
      "outputs": [],
      "source": [
        "accuracy_gnb = (pred_gnb == y_test).sum() / len(y_test)\n",
        "accuracy_gnb"
      ]
    },
    {
      "cell_type": "code",
      "execution_count": null,
      "id": "b378167f",
      "metadata": {
        "id": "b378167f"
      },
      "outputs": [],
      "source": [
        "#BernoulliNB\n",
        "from sklearn.naive_bayes import BernoulliNB\n",
        "model_bnb = BernoulliNB()\n",
        "model_bnb.fit(x_train, y_train)\n",
        "pred_bnb = model_bnb.predict(x_test)\n",
        "pred_bnb"
      ]
    },
    {
      "cell_type": "code",
      "execution_count": null,
      "id": "ddb39f55",
      "metadata": {
        "id": "ddb39f55"
      },
      "outputs": [],
      "source": [
        "accuracy_bnb = (pred_bnb == y_test).sum() / len(y_test)\n",
        "accuracy_bnb"
      ]
    }
  ],
  "metadata": {
    "kernelspec": {
      "display_name": "Python 3 (ipykernel)",
      "language": "python",
      "name": "python3"
    },
    "language_info": {
      "codemirror_mode": {
        "name": "ipython",
        "version": 3
      },
      "file_extension": ".py",
      "mimetype": "text/x-python",
      "name": "python",
      "nbconvert_exporter": "python",
      "pygments_lexer": "ipython3",
      "version": "3.9.13"
    },
    "colab": {
      "provenance": []
    }
  },
  "nbformat": 4,
  "nbformat_minor": 5
}