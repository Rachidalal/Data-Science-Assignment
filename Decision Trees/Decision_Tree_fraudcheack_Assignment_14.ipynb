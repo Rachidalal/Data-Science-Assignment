{
  "nbformat": 4,
  "nbformat_minor": 0,
  "metadata": {
    "colab": {
      "provenance": []
    },
    "kernelspec": {
      "name": "python3",
      "display_name": "Python 3"
    },
    "language_info": {
      "name": "python"
    }
  },
  "cells": [
    {
      "cell_type": "code",
      "execution_count": null,
      "metadata": {
        "id": "tZOWy0AXMF1-"
      },
      "outputs": [],
      "source": [
        "import pandas as pd\n",
        "import numpy as np\n",
        "import matplotlib.pyplot as plt\n",
        "from sklearn.model_selection import train_test_split\n",
        "from sklearn import tree\n",
        "from sklearn.tree import DecisionTreeClassifier\n",
        "from sklearn import preprocessing"
      ]
    },
    {
      "cell_type": "code",
      "source": [
        "df = pd.read_csv('Fraud_check.csv')"
      ],
      "metadata": {
        "id": "ESsEyVbBMrNO"
      },
      "execution_count": null,
      "outputs": []
    },
    {
      "cell_type": "code",
      "source": [
        "data = df.copy()"
      ],
      "metadata": {
        "id": "I-JIdHG7MrO8"
      },
      "execution_count": null,
      "outputs": []
    },
    {
      "cell_type": "code",
      "source": [
        "data.head()"
      ],
      "metadata": {
        "id": "leXZfT_aMrTW"
      },
      "execution_count": null,
      "outputs": []
    },
    {
      "cell_type": "code",
      "source": [
        "\n",
        "data.columns"
      ],
      "metadata": {
        "id": "meCVH7HoMrVD"
      },
      "execution_count": null,
      "outputs": []
    },
    {
      "cell_type": "code",
      "source": [
        "label_encoder = preprocessing.LabelEncoder()\n",
        "data['Undergrad']= label_encoder.fit_transform (data['Undergrad'])\n",
        "data['Marital.Status'] =label_encoder.fit_transform(data['Marital.Status'])\n",
        "data['Urban'] = label_encoder.fit_transform(data['Urban'])"
      ],
      "metadata": {
        "id": "mb7gVrWrMrYd"
      },
      "execution_count": null,
      "outputs": []
    },
    {
      "cell_type": "code",
      "source": [
        "data.head()"
      ],
      "metadata": {
        "id": "CvxW20u9MrZ8"
      },
      "execution_count": null,
      "outputs": []
    },
    {
      "cell_type": "code",
      "source": [
        "tax =[]\n",
        "for value in data['Taxable.Income'] :\n",
        "  if value <=30000:\n",
        "    tax.append('Risky')\n",
        "  else :\n",
        "      tax.append('Good')\n",
        "data['tax_value']= tax"
      ],
      "metadata": {
        "id": "Jm18cl6AMrdn"
      },
      "execution_count": null,
      "outputs": []
    },
    {
      "cell_type": "code",
      "source": [
        "data"
      ],
      "metadata": {
        "id": "NvZ6oCrGMrfI"
      },
      "execution_count": null,
      "outputs": []
    },
    {
      "cell_type": "code",
      "source": [
        "data2 = data.drop(['Taxable.Income'],axis=1)"
      ],
      "metadata": {
        "id": "R9Bsh8oONYFP"
      },
      "execution_count": null,
      "outputs": []
    },
    {
      "cell_type": "code",
      "source": [
        "data2.head()"
      ],
      "metadata": {
        "id": "qMkuklLHNYHJ"
      },
      "execution_count": null,
      "outputs": []
    },
    {
      "cell_type": "code",
      "source": [
        "x = data2.iloc[:,0:5]\n",
        "y = data2['tax_value']"
      ],
      "metadata": {
        "id": "A7ASODawNYKm"
      },
      "execution_count": null,
      "outputs": []
    },
    {
      "cell_type": "code",
      "source": [
        "x.head()"
      ],
      "metadata": {
        "id": "8xB1qfLdNYM9"
      },
      "execution_count": null,
      "outputs": []
    },
    {
      "cell_type": "code",
      "source": [
        "y.head()"
      ],
      "metadata": {
        "id": "GrbKc9b4NYQZ",
        "outputId": "b51c2da4-08b1-47a0-df39-cfbd9cfc9e3c",
        "colab": {
          "base_uri": "https://localhost:8080/"
        }
      },
      "execution_count": null,
      "outputs": [
        {
          "output_type": "execute_result",
          "data": {
            "text/plain": [
              "0    Good\n",
              "1    Good\n",
              "2    Good\n",
              "3    Good\n",
              "4    Good\n",
              "Name: tax_value, dtype: object"
            ]
          },
          "metadata": {},
          "execution_count": 14
        }
      ]
    },
    {
      "cell_type": "code",
      "source": [
        "x_train, x_test, y_train,y_test= train_test_split(x,y, test_size=0.3, random_state=40)\n"
      ],
      "metadata": {
        "id": "zDZU33RZNmPW"
      },
      "execution_count": null,
      "outputs": []
    },
    {
      "cell_type": "code",
      "source": [
        "model = DecisionTreeClassifier(criterion='entropy', max_depth=2)\n",
        "model.fit(x_train, y_train)"
      ],
      "metadata": {
        "id": "M_B3Sr1TNmQz"
      },
      "execution_count": null,
      "outputs": []
    },
    {
      "cell_type": "code",
      "source": [
        "x.columns"
      ],
      "metadata": {
        "id": "N2SkCqonNmbM"
      },
      "execution_count": null,
      "outputs": []
    },
    {
      "cell_type": "code",
      "source": [
        "fn = ['Undergrad', 'Marital.Status', 'City.Population', 'Work.Experience',\n",
        "       'Urban']\n",
        "cn = ['Good','Risky']\n",
        "fig, axes = plt.subplots(nrows = 1,ncols = 1,figsize = (10,10), dpi=300)\n",
        "tree.plot_tree(model,\n",
        "               feature_names = fn,\n",
        "               class_names=cn,\n",
        "               filled = True);"
      ],
      "metadata": {
        "id": "tIZmsPfbNmcc"
      },
      "execution_count": null,
      "outputs": []
    },
    {
      "cell_type": "code",
      "source": [
        "pred = model.predict(x_test)\n",
        "pd.Series(pred).value_counts()"
      ],
      "metadata": {
        "id": "P9h0muUcN3gN"
      },
      "execution_count": null,
      "outputs": []
    },
    {
      "cell_type": "code",
      "source": [
        "pred"
      ],
      "metadata": {
        "id": "PUgJlT_2N3iL"
      },
      "execution_count": null,
      "outputs": []
    },
    {
      "cell_type": "code",
      "source": [
        "pd.crosstab(y_test,pred)"
      ],
      "metadata": {
        "id": "xXF-l2FpN3lD"
      },
      "execution_count": null,
      "outputs": []
    },
    {
      "cell_type": "code",
      "source": [
        "np.mean(pred==y_test)"
      ],
      "metadata": {
        "id": "pOooKdQ4N3nH"
      },
      "execution_count": null,
      "outputs": []
    },
    {
      "cell_type": "code",
      "source": [
        "model2 = DecisionTreeClassifier(criterion='entropy', max_depth=3)\n",
        "model2.fit(x_train, y_train)\n",
        "\n",
        "fig, axes = plt.subplots(nrows = 1,ncols = 1,figsize = (10,10), dpi=300)\n",
        "tree.plot_tree(model2,\n",
        "               feature_names = fn,\n",
        "               class_names=cn,\n",
        "               filled = True);"
      ],
      "metadata": {
        "id": "_NfgRmvJOKuK"
      },
      "execution_count": null,
      "outputs": []
    },
    {
      "cell_type": "code",
      "source": [
        "pred2 = model2.predict(x_test)\n",
        "pd.Series(pred2).value_counts()"
      ],
      "metadata": {
        "id": "SLmj2EKAOKvu"
      },
      "execution_count": null,
      "outputs": []
    },
    {
      "cell_type": "code",
      "source": [
        "np.mean(pred2==y_test)"
      ],
      "metadata": {
        "id": "O4GXNfZVORB5"
      },
      "execution_count": null,
      "outputs": []
    }
  ]
}