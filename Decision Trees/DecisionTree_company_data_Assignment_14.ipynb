{
  "cells": [
    {
      "cell_type": "code",
      "execution_count": null,
      "metadata": {
        "id": "BvUqyDFzU93H"
      },
      "outputs": [],
      "source": [
        "import pandas as pd\n",
        "import matplotlib.pyplot as plt\n",
        "from sklearn import datasets\n",
        "import numpy as np\n",
        "from sklearn.model_selection import train_test_split\n",
        "from sklearn.tree import  DecisionTreeClassifier\n",
        "from sklearn import tree\n",
        "from sklearn.metrics import classification_report\n",
        "from sklearn import preprocessing"
      ]
    },
    {
      "cell_type": "code",
      "execution_count": null,
      "metadata": {
        "id": "czNL6hy-WDg7"
      },
      "outputs": [],
      "source": [
        "data = pd.read_csv('Company_Data.csv')\n",
        "data"
      ]
    },
    {
      "cell_type": "code",
      "execution_count": null,
      "metadata": {
        "id": "QQZokyONWDjp"
      },
      "outputs": [],
      "source": [
        "data.info()"
      ]
    },
    {
      "cell_type": "code",
      "execution_count": null,
      "metadata": {
        "id": "6Nm_iG27WDmh"
      },
      "outputs": [],
      "source": [
        "data.columns"
      ]
    },
    {
      "cell_type": "code",
      "execution_count": null,
      "metadata": {
        "id": "Vr_tA2ynWDoI"
      },
      "outputs": [],
      "source": [
        "data.describe()"
      ]
    },
    {
      "cell_type": "code",
      "execution_count": null,
      "metadata": {
        "id": "_T2mbNGeY7fl"
      },
      "outputs": [],
      "source": [
        "sns.pairplot(data)\n",
        "plt.show()"
      ]
    },
    {
      "cell_type": "code",
      "source": [
        "corr = data.corr()\n",
        "fig, ax = plt.subplots(figsize=(10, 6))\n",
        "sns.heatmap(corr, cmap='magma', annot=True, fmt=\".2f\")\n",
        "plt.xticks(range(len(corr.columns)), corr.columns);\n",
        "plt.yticks(range(len(corr.columns)), corr.columns)\n",
        "plt.show()"
      ],
      "metadata": {
        "id": "h69d0uyaCCBg"
      },
      "execution_count": null,
      "outputs": []
    },
    {
      "cell_type": "code",
      "source": [
        "data['Sales'] = pd.cut(x=data['Sales'],bins=[0, 6, 12, 17], labels=['Low','Medium', 'High'], right = False)\n",
        "data['Sales']"
      ],
      "metadata": {
        "id": "flAwIz9nCCDr"
      },
      "execution_count": null,
      "outputs": []
    },
    {
      "cell_type": "code",
      "source": [
        "import seaborn as sns"
      ],
      "metadata": {
        "id": "V5GrhbgXCCGP"
      },
      "execution_count": null,
      "outputs": []
    },
    {
      "cell_type": "code",
      "source": [
        "sns.boxplot(data['Sales'])"
      ],
      "metadata": {
        "id": "GKCT4lZrCCIG"
      },
      "execution_count": null,
      "outputs": []
    },
    {
      "cell_type": "code",
      "source": [
        "sales_val = []\n",
        "for value in data['Sales']:\n",
        "    if value >= 7.5:\n",
        "        sales_val.append('High')\n",
        "    else:\n",
        "        sales_val.append('Low')\n",
        "data['Sales_category'] = sales_val"
      ],
      "metadata": {
        "id": "XHNjxtmNCCKh"
      },
      "execution_count": null,
      "outputs": []
    },
    {
      "cell_type": "code",
      "source": [
        "data.head()\n"
      ],
      "metadata": {
        "id": "7azWQBz4CCMU"
      },
      "execution_count": null,
      "outputs": []
    },
    {
      "cell_type": "code",
      "source": [
        "data.columns"
      ],
      "metadata": {
        "id": "rw2C3riCCCPm"
      },
      "execution_count": null,
      "outputs": []
    },
    {
      "cell_type": "code",
      "source": [
        "label_encoder = preprocessing.LabelEncoder()"
      ],
      "metadata": {
        "id": "vEKz6XwtCCRP"
      },
      "execution_count": null,
      "outputs": []
    },
    {
      "cell_type": "code",
      "execution_count": null,
      "metadata": {
        "id": "Yh25G7aVY7hS"
      },
      "outputs": [],
      "source": [
        "data['US'] = label_encoder.fit_transform(data['US'])\n",
        "data['Urban'] = label_encoder.fit_transform(data['Urban'])\n",
        "data['ShelveLoc'] = label_encoder.fit_transform(data['ShelveLoc'])"
      ]
    },
    {
      "cell_type": "code",
      "execution_count": null,
      "metadata": {
        "id": "1CayEh_hY7kq"
      },
      "outputs": [],
      "source": [
        "data.head(10)"
      ]
    },
    {
      "cell_type": "code",
      "execution_count": null,
      "metadata": {
        "id": "qvocwEmoY7mK"
      },
      "outputs": [],
      "source": [
        "data.head(10)"
      ]
    },
    {
      "cell_type": "code",
      "execution_count": null,
      "metadata": {
        "id": "qiZ8aFfFY7pC"
      },
      "outputs": [],
      "source": [
        "data.info()"
      ]
    },
    {
      "cell_type": "code",
      "execution_count": null,
      "metadata": {
        "id": "b5KE4tA7Y7qe"
      },
      "outputs": [],
      "source": [
        "colnames = list(data.columns)"
      ]
    },
    {
      "cell_type": "code",
      "execution_count": null,
      "metadata": {
        "id": "sCQ3Ag4_Y7t3"
      },
      "outputs": [],
      "source": [
        "colnames"
      ]
    },
    {
      "cell_type": "code",
      "execution_count": null,
      "metadata": {
        "id": "4oHtYn_LY7wD"
      },
      "outputs": [],
      "source": [
        "x = data.iloc[:,1:11]\n",
        "x.head()"
      ]
    },
    {
      "cell_type": "code",
      "execution_count": null,
      "metadata": {
        "id": "b4x7NNM-Y7yQ"
      },
      "outputs": [],
      "source": [
        "y = data['Sales_category']\n",
        "y.head()"
      ]
    },
    {
      "cell_type": "code",
      "execution_count": null,
      "metadata": {
        "id": "OFZkOUPGY70I"
      },
      "outputs": [],
      "source": [
        "y.value_counts()"
      ]
    },
    {
      "cell_type": "code",
      "execution_count": null,
      "metadata": {
        "id": "8YB60SnQY73J"
      },
      "outputs": [],
      "source": [
        "x_train, x_test, y_train, y_test = train_test_split(x,y,test_size=0.3,random_state=40)\n"
      ]
    },
    {
      "cell_type": "code",
      "execution_count": null,
      "metadata": {
        "id": "x8mWyFUTY74v"
      },
      "outputs": [],
      "source": [
        "model = DecisionTreeClassifier(criterion = 'entropy',max_depth=3)\n",
        "model.fit(x_train,y_train)"
      ]
    },
    {
      "cell_type": "code",
      "execution_count": null,
      "metadata": {
        "id": "5iJ_pPVzY774"
      },
      "outputs": [],
      "source": [
        "tree.plot_tree(model);"
      ]
    },
    {
      "cell_type": "code",
      "execution_count": null,
      "metadata": {
        "id": "6zJT-hkOY79p"
      },
      "outputs": [],
      "source": [
        "x.columns"
      ]
    },
    {
      "cell_type": "code",
      "execution_count": null,
      "metadata": {
        "id": "IkTtf_dSY8Ay"
      },
      "outputs": [],
      "source": [
        "fn= ['CompPrice', 'Income', 'Advertising', 'Population', 'Price',\n",
        "       'ShelveLoc', 'Age', 'Education', 'Urban', 'US']\n",
        "cn=['High','Low']\n",
        "fig, axes = plt.subplots(nrows = 1,ncols = 1,figsize = (10,10), dpi=300)\n",
        "tree.plot_tree(model,\n",
        "               feature_names = fn,\n",
        "               class_names=cn,\n",
        "               filled = True);"
      ]
    },
    {
      "cell_type": "code",
      "execution_count": null,
      "metadata": {
        "id": "efQPvyfnY8DB"
      },
      "outputs": [],
      "source": [
        "pred = model.predict(x_test)\n",
        "pd.Series(pred).value_counts()"
      ]
    },
    {
      "cell_type": "code",
      "execution_count": null,
      "metadata": {
        "id": "3R7jxbBeY8Fn"
      },
      "outputs": [],
      "source": [
        "pred"
      ]
    },
    {
      "cell_type": "code",
      "execution_count": null,
      "metadata": {
        "id": "4WN8u43tY8HY"
      },
      "outputs": [],
      "source": [
        "pd.crosstab(y_test,pred)"
      ]
    },
    {
      "cell_type": "code",
      "execution_count": null,
      "metadata": {
        "id": "USjrm_BsWDso"
      },
      "outputs": [],
      "source": [
        "np.mean(pred==y_test)"
      ]
    },
    {
      "cell_type": "code",
      "source": [
        "model2 = DecisionTreeClassifier(criterion = 'entropy',max_depth=5)\n",
        "model2.fit(x_train,y_train)\n",
        "fn= ['CompPrice', 'Income', 'Advertising', 'Population', 'Price',\n",
        "       'ShelveLoc', 'Age', 'Education', 'Urban', 'US']\n",
        "cn=['High','Low']\n",
        "fig, axes = plt.subplots(nrows = 1,ncols = 1,figsize = (10,10), dpi=300)\n",
        "tree.plot_tree(model2,\n",
        "               feature_names = fn,\n",
        "               class_names=cn,\n",
        "               filled = True);"
      ],
      "metadata": {
        "id": "wu1uCWG1IDa1"
      },
      "execution_count": null,
      "outputs": []
    },
    {
      "cell_type": "code",
      "source": [
        "pred2 = model2.predict(x_test)\n",
        "pd.Series(pred2).value_counts()"
      ],
      "metadata": {
        "id": "zXjLTEnwIDch"
      },
      "execution_count": null,
      "outputs": []
    },
    {
      "cell_type": "code",
      "source": [
        "np.mean(pred2==y_test)"
      ],
      "metadata": {
        "id": "6k7hEpr-IDgX"
      },
      "execution_count": null,
      "outputs": []
    },
    {
      "cell_type": "code",
      "source": [
        "sales_val2 = []\n",
        "for value in data['Sales']:\n",
        "    if value >= 9:\n",
        "        sales_val2.append('High')\n",
        "    elif value >= 6 and value < 9:\n",
        "        sales_val2.append('Mid')\n",
        "    else:\n",
        "        sales_val2.append('Low')\n",
        "data['Sales_category2'] = sales_val2"
      ],
      "metadata": {
        "id": "ik_fK2tMIDjS"
      },
      "execution_count": null,
      "outputs": []
    },
    {
      "cell_type": "code",
      "source": [
        "data.head()\n"
      ],
      "metadata": {
        "colab": {
          "base_uri": "https://localhost:8080/",
          "height": 176
        },
        "id": "7Ol6yLe-I5Vi",
        "outputId": "942953d1-908a-4215-dd81-908014a4451d"
      },
      "execution_count": 1,
      "outputs": [
        {
          "output_type": "error",
          "ename": "NameError",
          "evalue": "ignored",
          "traceback": [
            "\u001b[0;31m---------------------------------------------------------------------------\u001b[0m",
            "\u001b[0;31mNameError\u001b[0m                                 Traceback (most recent call last)",
            "\u001b[0;32m<ipython-input-1-304fa4ce4ebd>\u001b[0m in \u001b[0;36m<cell line: 1>\u001b[0;34m()\u001b[0m\n\u001b[0;32m----> 1\u001b[0;31m \u001b[0mdata\u001b[0m\u001b[0;34m.\u001b[0m\u001b[0mhead\u001b[0m\u001b[0;34m(\u001b[0m\u001b[0;34m)\u001b[0m\u001b[0;34m\u001b[0m\u001b[0;34m\u001b[0m\u001b[0m\n\u001b[0m",
            "\u001b[0;31mNameError\u001b[0m: name 'data' is not defined"
          ]
        }
      ]
    },
    {
      "cell_type": "code",
      "source": [
        "x2 = data.iloc[:,1:11]\n",
        "y2 = data['Sales_category2']"
      ],
      "metadata": {
        "id": "xn4yYhZHI5ax"
      },
      "execution_count": null,
      "outputs": []
    },
    {
      "cell_type": "code",
      "source": [
        "x2.head()"
      ],
      "metadata": {
        "id": "0VY9tIbuI5cx"
      },
      "execution_count": null,
      "outputs": []
    },
    {
      "cell_type": "code",
      "source": [
        "y2.head()"
      ],
      "metadata": {
        "id": "wTfhIsz6I5fp"
      },
      "execution_count": null,
      "outputs": []
    },
    {
      "cell_type": "code",
      "source": [
        "x2_train, x2_test, y2_train, y2_test = train_test_split(x2,y2,test_size=0.3,random_state=40)\n"
      ],
      "metadata": {
        "id": "YbnJbIucI5ic"
      },
      "execution_count": null,
      "outputs": []
    },
    {
      "cell_type": "code",
      "source": [
        "model3 = DecisionTreeClassifier(criterion = 'entropy',max_depth=3)\n",
        "model3.fit(x2_train,y2_train)"
      ],
      "metadata": {
        "id": "LRNPjRefI5lL"
      },
      "execution_count": null,
      "outputs": []
    },
    {
      "cell_type": "code",
      "source": [
        "fn2= ['CompPrice', 'Income', 'Advertising', 'Population', 'Price',\n",
        "       'ShelveLoc', 'Age', 'Education', 'Urban', 'US']\n",
        "cn2=['High','Mid','Low']\n",
        "fig, axes = plt.subplots(nrows = 1,ncols = 1,figsize = (10,10), dpi=300)\n",
        "tree.plot_tree(model3,\n",
        "               feature_names = fn2,\n",
        "               class_names=cn2,\n",
        "               filled = True);"
      ],
      "metadata": {
        "id": "AfrjWaM7IDlx"
      },
      "execution_count": null,
      "outputs": []
    },
    {
      "cell_type": "code",
      "source": [
        "pred3 = model3.predict(x_test)\n",
        "pd.Series(pred3).value_counts()"
      ],
      "metadata": {
        "id": "VuiUMXb_Jfty"
      },
      "execution_count": null,
      "outputs": []
    },
    {
      "cell_type": "code",
      "source": [
        "np.mean(pred3==y2_test)"
      ],
      "metadata": {
        "id": "vxCDo9b3Jfvq"
      },
      "execution_count": null,
      "outputs": []
    }
  ],
  "metadata": {
    "colab": {
      "provenance": []
    },
    "kernelspec": {
      "display_name": "Python 3",
      "name": "python3"
    },
    "language_info": {
      "name": "python"
    }
  },
  "nbformat": 4,
  "nbformat_minor": 0
}