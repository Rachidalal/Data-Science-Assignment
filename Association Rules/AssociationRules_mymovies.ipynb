{
  "cells": [
    {
      "cell_type": "code",
      "execution_count": null,
      "metadata": {
        "id": "tW-oe_DwkYHv"
      },
      "outputs": [],
      "source": [
        "import csv\n",
        "import numpy as np\n",
        "import pandas as pd\n",
        "import matplotlib.pyplot as plt\n",
        "from scipy.special import comb\n",
        "from itertools import combinations, permutations\n",
        "from apyori import apriori as apr\n",
        "from mlxtend.frequent_patterns import apriori, association_rules\n",
        "import scipy as sp\n",
        "from mpl_toolkits.mplot3d import Axes3D\n",
        "import matplotlib.pyplot as plt\n",
        "import seaborn as sns\n",
        "from mlxtend.preprocessing import TransactionEncoder"
      ]
    },
    {
      "cell_type": "code",
      "execution_count": null,
      "metadata": {
        "id": "BDG7HqKFkYH1"
      },
      "outputs": [],
      "source": [
        "df = pd.read_csv(\"my_movies.csv\")"
      ]
    },
    {
      "cell_type": "code",
      "execution_count": null,
      "metadata": {
        "id": "etGcIUb4kYH2",
        "outputId": "04268c59-bb05-4cc7-dece-70cb751f9a1a"
      },
      "outputs": [
        {
          "data": {
            "text/html": [
              "<div>\n",
              "<style scoped>\n",
              "    .dataframe tbody tr th:only-of-type {\n",
              "        vertical-align: middle;\n",
              "    }\n",
              "\n",
              "    .dataframe tbody tr th {\n",
              "        vertical-align: top;\n",
              "    }\n",
              "\n",
              "    .dataframe thead th {\n",
              "        text-align: right;\n",
              "    }\n",
              "</style>\n",
              "<table border=\"1\" class=\"dataframe\">\n",
              "  <thead>\n",
              "    <tr style=\"text-align: right;\">\n",
              "      <th></th>\n",
              "      <th>V1</th>\n",
              "      <th>V2</th>\n",
              "      <th>V3</th>\n",
              "      <th>V4</th>\n",
              "      <th>V5</th>\n",
              "      <th>Sixth Sense</th>\n",
              "      <th>Gladiator</th>\n",
              "      <th>LOTR1</th>\n",
              "      <th>Harry Potter1</th>\n",
              "      <th>Patriot</th>\n",
              "      <th>LOTR2</th>\n",
              "      <th>Harry Potter2</th>\n",
              "      <th>LOTR</th>\n",
              "      <th>Braveheart</th>\n",
              "      <th>Green Mile</th>\n",
              "    </tr>\n",
              "  </thead>\n",
              "  <tbody>\n",
              "    <tr>\n",
              "      <td>0</td>\n",
              "      <td>Sixth Sense</td>\n",
              "      <td>LOTR1</td>\n",
              "      <td>Harry Potter1</td>\n",
              "      <td>Green Mile</td>\n",
              "      <td>LOTR2</td>\n",
              "      <td>1</td>\n",
              "      <td>0</td>\n",
              "      <td>1</td>\n",
              "      <td>1</td>\n",
              "      <td>0</td>\n",
              "      <td>1</td>\n",
              "      <td>0</td>\n",
              "      <td>0</td>\n",
              "      <td>0</td>\n",
              "      <td>1</td>\n",
              "    </tr>\n",
              "    <tr>\n",
              "      <td>1</td>\n",
              "      <td>Gladiator</td>\n",
              "      <td>Patriot</td>\n",
              "      <td>Braveheart</td>\n",
              "      <td>NaN</td>\n",
              "      <td>NaN</td>\n",
              "      <td>0</td>\n",
              "      <td>1</td>\n",
              "      <td>0</td>\n",
              "      <td>0</td>\n",
              "      <td>1</td>\n",
              "      <td>0</td>\n",
              "      <td>0</td>\n",
              "      <td>0</td>\n",
              "      <td>1</td>\n",
              "      <td>0</td>\n",
              "    </tr>\n",
              "    <tr>\n",
              "      <td>2</td>\n",
              "      <td>LOTR1</td>\n",
              "      <td>LOTR2</td>\n",
              "      <td>NaN</td>\n",
              "      <td>NaN</td>\n",
              "      <td>NaN</td>\n",
              "      <td>0</td>\n",
              "      <td>0</td>\n",
              "      <td>1</td>\n",
              "      <td>0</td>\n",
              "      <td>0</td>\n",
              "      <td>1</td>\n",
              "      <td>0</td>\n",
              "      <td>0</td>\n",
              "      <td>0</td>\n",
              "      <td>0</td>\n",
              "    </tr>\n",
              "    <tr>\n",
              "      <td>3</td>\n",
              "      <td>Gladiator</td>\n",
              "      <td>Patriot</td>\n",
              "      <td>Sixth Sense</td>\n",
              "      <td>NaN</td>\n",
              "      <td>NaN</td>\n",
              "      <td>1</td>\n",
              "      <td>1</td>\n",
              "      <td>0</td>\n",
              "      <td>0</td>\n",
              "      <td>1</td>\n",
              "      <td>0</td>\n",
              "      <td>0</td>\n",
              "      <td>0</td>\n",
              "      <td>0</td>\n",
              "      <td>0</td>\n",
              "    </tr>\n",
              "    <tr>\n",
              "      <td>4</td>\n",
              "      <td>Gladiator</td>\n",
              "      <td>Patriot</td>\n",
              "      <td>Sixth Sense</td>\n",
              "      <td>NaN</td>\n",
              "      <td>NaN</td>\n",
              "      <td>1</td>\n",
              "      <td>1</td>\n",
              "      <td>0</td>\n",
              "      <td>0</td>\n",
              "      <td>1</td>\n",
              "      <td>0</td>\n",
              "      <td>0</td>\n",
              "      <td>0</td>\n",
              "      <td>0</td>\n",
              "      <td>0</td>\n",
              "    </tr>\n",
              "  </tbody>\n",
              "</table>\n",
              "</div>"
            ],
            "text/plain": [
              "            V1       V2             V3          V4     V5  Sixth Sense  \\\n",
              "0  Sixth Sense    LOTR1  Harry Potter1  Green Mile  LOTR2            1   \n",
              "1    Gladiator  Patriot     Braveheart         NaN    NaN            0   \n",
              "2        LOTR1    LOTR2            NaN         NaN    NaN            0   \n",
              "3    Gladiator  Patriot    Sixth Sense         NaN    NaN            1   \n",
              "4    Gladiator  Patriot    Sixth Sense         NaN    NaN            1   \n",
              "\n",
              "   Gladiator  LOTR1  Harry Potter1  Patriot  LOTR2  Harry Potter2  LOTR  \\\n",
              "0          0      1              1        0      1              0     0   \n",
              "1          1      0              0        1      0              0     0   \n",
              "2          0      1              0        0      1              0     0   \n",
              "3          1      0              0        1      0              0     0   \n",
              "4          1      0              0        1      0              0     0   \n",
              "\n",
              "   Braveheart  Green Mile  \n",
              "0           0           1  \n",
              "1           1           0  \n",
              "2           0           0  \n",
              "3           0           0  \n",
              "4           0           0  "
            ]
          },
          "execution_count": 3,
          "metadata": {},
          "output_type": "execute_result"
        }
      ],
      "source": [
        "df.head()"
      ]
    },
    {
      "cell_type": "code",
      "execution_count": null,
      "metadata": {
        "id": "RXn7qIijkYH4"
      },
      "outputs": [],
      "source": [
        "df1 = df.iloc[:,5:]"
      ]
    },
    {
      "cell_type": "code",
      "execution_count": null,
      "metadata": {
        "id": "yD1hU0XTkYH5"
      },
      "outputs": [],
      "source": [
        "df1.head()"
      ]
    },
    {
      "cell_type": "code",
      "execution_count": null,
      "metadata": {
        "id": "Xc4GLZk0kYH6"
      },
      "outputs": [],
      "source": [
        "df1.describe().T"
      ]
    },
    {
      "cell_type": "code",
      "execution_count": null,
      "metadata": {
        "id": "XzEICpFUkYH6"
      },
      "outputs": [],
      "source": [
        "df1.isnull().sum()"
      ]
    },
    {
      "cell_type": "code",
      "execution_count": null,
      "metadata": {
        "id": "AL-DmCnbkYH7"
      },
      "outputs": [],
      "source": [
        "df1.dtypes"
      ]
    },
    {
      "cell_type": "code",
      "execution_count": null,
      "metadata": {
        "id": "AXZEcfjEkYH7"
      },
      "outputs": [],
      "source": [
        "df1.shape"
      ]
    },
    {
      "cell_type": "code",
      "execution_count": null,
      "metadata": {
        "id": "Yy5H0QTXkYH8"
      },
      "outputs": [],
      "source": [
        "item_sets = {}"
      ]
    },
    {
      "cell_type": "code",
      "execution_count": null,
      "metadata": {
        "id": "tJT95hbekYH8"
      },
      "outputs": [],
      "source": [
        "te = TransactionEncoder()"
      ]
    },
    {
      "cell_type": "code",
      "execution_count": null,
      "metadata": {
        "id": "D6pfqNibkYH8"
      },
      "outputs": [],
      "source": [
        "te_ary = te.fit(df1).transform(df1)"
      ]
    },
    {
      "cell_type": "code",
      "execution_count": null,
      "metadata": {
        "id": "7OWXMpLGkYH9"
      },
      "outputs": [],
      "source": [
        "ap = pd.DataFrame(te_ary, columns=te.columns_)"
      ]
    },
    {
      "cell_type": "code",
      "execution_count": null,
      "metadata": {
        "id": "LWy5c2bWkYH9"
      },
      "outputs": [],
      "source": [
        "ap.sum().to_frame('Frequency').sort_values('Frequency',ascending=False)[:25].plot(kind='bar',\n",
        "                                                                                  figsize=(12,8),\n",
        "                                                                                  title=\"Frequent Items\")\n",
        "plt.show()"
      ]
    },
    {
      "cell_type": "code",
      "execution_count": null,
      "metadata": {
        "id": "wvSt04qMkYH-"
      },
      "outputs": [],
      "source": [
        "                                # Apriori algorithm\n",
        "ap_0_5 = {}\n",
        "ap_1 = {}\n",
        "ap_5 = {}\n",
        "ap_1_0 = {}"
      ]
    },
    {
      "cell_type": "code",
      "execution_count": null,
      "metadata": {
        "id": "YvdPXwc3kYH_"
      },
      "outputs": [],
      "source": [
        "confidence = [0.1,0.2,0.3,0.4,0.5,0.6,0.7,0.8,0.9]"
      ]
    },
    {
      "cell_type": "code",
      "execution_count": null,
      "metadata": {
        "id": "wJG_T6AtkYH_"
      },
      "outputs": [],
      "source": [
        "def gen_rules(df,confidence,support):\n",
        "    ap = {}\n",
        "    for i in confidence:\n",
        "        ap_i =apriori(df1,support,True)\n",
        "        rule= association_rules(ap_i,min_threshold=i)\n",
        "        ap[i] = len(rule.antecedents)\n",
        "    return pd.Series(ap).to_frame(\"Support: %s\"%support)"
      ]
    },
    {
      "cell_type": "code",
      "execution_count": null,
      "metadata": {
        "id": "p2vefCjtkYIA"
      },
      "outputs": [],
      "source": [
        "confs = []"
      ]
    },
    {
      "cell_type": "code",
      "execution_count": null,
      "metadata": {
        "id": "dMk_ET4pkYIA"
      },
      "outputs": [],
      "source": [
        "for i in [0.005,0.001,0.003,0.007]:\n",
        "    ap_i = gen_rules(ap,confidence=confidence,support=i)\n",
        "    confs.append(ap_i)"
      ]
    },
    {
      "cell_type": "code",
      "execution_count": null,
      "metadata": {
        "id": "hg-irBuWkYIB"
      },
      "outputs": [],
      "source": [
        "all_conf = pd.concat(confs,axis=1)"
      ]
    },
    {
      "cell_type": "code",
      "execution_count": null,
      "metadata": {
        "id": "Wydw3xr9kYIB"
      },
      "outputs": [],
      "source": [
        "all_conf.plot(figsize=(8,8),grid=True)\n",
        "plt.ylabel('Rules')\n",
        "plt.xlabel('Confidence')\n",
        "plt.show()"
      ]
    },
    {
      "cell_type": "code",
      "execution_count": null,
      "metadata": {
        "id": "cqf7i-H4kYIC"
      },
      "outputs": [],
      "source": [
        "ap_final =  apriori(ap,0.005,True)"
      ]
    },
    {
      "cell_type": "code",
      "execution_count": null,
      "metadata": {
        "id": "vHQDAexqkYID"
      },
      "outputs": [],
      "source": [
        "rules_final = association_rules(ap_final,min_threshold=.4,support_only=False)"
      ]
    },
    {
      "cell_type": "code",
      "execution_count": null,
      "metadata": {
        "id": "uaNalZrJkYID"
      },
      "outputs": [],
      "source": [
        "rules_final[rules_final['confidence'] > 0.5]"
      ]
    },
    {
      "cell_type": "code",
      "execution_count": null,
      "metadata": {
        "id": "ODQzbUTlkYID"
      },
      "outputs": [],
      "source": [
        "support = rules_final[\"support\"]\n",
        "confidence =  rules_final[\"confidence\"]\n",
        "lift = rules_final[\"lift\"]"
      ]
    },
    {
      "cell_type": "code",
      "execution_count": null,
      "metadata": {
        "id": "xSiZRx_gkYID"
      },
      "outputs": [],
      "source": [
        "fig1 = plt.figure()\n",
        "ax1 = fig1.add_subplot(111, projection = '3d')\n",
        "ax1.scatter(support,confidence,lift)\n",
        "ax1.set_xlabel(\"support\")\n",
        "ax1.set_ylabel(\"confidence\")\n",
        "ax1.set_zlabel(\"lift\")"
      ]
    },
    {
      "cell_type": "code",
      "execution_count": null,
      "metadata": {
        "id": "feHztXwjkYIE"
      },
      "outputs": [],
      "source": [
        "plt.scatter(support,confidence, c =lift, cmap = 'gray')\n",
        "plt.colorbar()\n",
        "plt.xlabel(\"support\");plt.ylabel(\"confidence\")"
      ]
    }
  ],
  "metadata": {
    "kernelspec": {
      "display_name": "Python 3",
      "language": "python",
      "name": "python3"
    },
    "language_info": {
      "codemirror_mode": {
        "name": "ipython",
        "version": 3
      },
      "file_extension": ".py",
      "mimetype": "text/x-python",
      "name": "python",
      "nbconvert_exporter": "python",
      "pygments_lexer": "ipython3",
      "version": "3.7.4"
    },
    "colab": {
      "provenance": []
    }
  },
  "nbformat": 4,
  "nbformat_minor": 0
}