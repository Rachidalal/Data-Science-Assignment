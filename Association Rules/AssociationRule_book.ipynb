{
  "cells": [
    {
      "cell_type": "code",
      "execution_count": null,
      "metadata": {
        "id": "h5vjIm9ai_s_"
      },
      "outputs": [],
      "source": [
        "import csv\n",
        "import numpy as np\n",
        "import pandas as pd\n",
        "import matplotlib.pyplot as plt\n",
        "from scipy.special import comb\n",
        "from itertools import combinations, permutations\n",
        "from apyori import apriori as apr\n",
        "from mlxtend.frequent_patterns import apriori, association_rules\n",
        "import scipy as sp\n",
        "from mpl_toolkits.mplot3d import Axes3D\n",
        "import matplotlib.pyplot as plt\n",
        "import seaborn as sns\n",
        "from mlxtend.preprocessing import TransactionEncoder"
      ]
    },
    {
      "cell_type": "code",
      "execution_count": null,
      "metadata": {
        "id": "_9zXJGRci_tF"
      },
      "outputs": [],
      "source": [
        "df = pd.read_csv(\"book.csv\")"
      ]
    },
    {
      "cell_type": "code",
      "execution_count": null,
      "metadata": {
        "id": "hUO0lfw7i_tG"
      },
      "outputs": [],
      "source": [
        "df.head()"
      ]
    },
    {
      "cell_type": "code",
      "execution_count": null,
      "metadata": {
        "id": "OroO-dpii_tH"
      },
      "outputs": [],
      "source": [
        "df1 = df.copy()"
      ]
    },
    {
      "cell_type": "code",
      "execution_count": null,
      "metadata": {
        "id": "kGC_nrQUi_tI"
      },
      "outputs": [],
      "source": [
        "df1.describe().T"
      ]
    },
    {
      "cell_type": "code",
      "execution_count": null,
      "metadata": {
        "id": "fVHqrwrNi_tJ"
      },
      "outputs": [],
      "source": [
        "df1.isnull().sum()"
      ]
    },
    {
      "cell_type": "code",
      "execution_count": null,
      "metadata": {
        "id": "LyocHt50i_tK"
      },
      "outputs": [],
      "source": [
        "df1.dtypes"
      ]
    },
    {
      "cell_type": "code",
      "execution_count": null,
      "metadata": {
        "id": "TH2eUbQ-i_tK"
      },
      "outputs": [],
      "source": [
        "df1.shape"
      ]
    },
    {
      "cell_type": "code",
      "execution_count": null,
      "metadata": {
        "id": "Qd2RvFBri_tL"
      },
      "outputs": [],
      "source": [
        "item_sets = {}"
      ]
    },
    {
      "cell_type": "code",
      "execution_count": null,
      "metadata": {
        "id": "ot-5M-nFi_tL"
      },
      "outputs": [],
      "source": [
        "te = TransactionEncoder()"
      ]
    },
    {
      "cell_type": "code",
      "execution_count": null,
      "metadata": {
        "id": "wRPjXzTCi_tL"
      },
      "outputs": [],
      "source": [
        "te_ary = te.fit(df1).transform(df1)"
      ]
    },
    {
      "cell_type": "code",
      "execution_count": null,
      "metadata": {
        "id": "b6wBAJBQi_tM"
      },
      "outputs": [],
      "source": [
        "ap = pd.DataFrame(te_ary, columns=te.columns_)"
      ]
    },
    {
      "cell_type": "code",
      "execution_count": null,
      "metadata": {
        "id": "rTa9Ywv1i_tM"
      },
      "outputs": [],
      "source": [
        "ap.sum().to_frame('Frequency').sort_values('Frequency',ascending=False)[:25].plot(kind='bar',\n",
        "                                                                                  figsize=(12,8),\n",
        "                                                                                 title=\"Frequent Items\")\n",
        "plt.show()"
      ]
    },
    {
      "cell_type": "code",
      "execution_count": null,
      "metadata": {
        "id": "yR7idrC0i_tO"
      },
      "outputs": [],
      "source": [
        "                                # Apriori algorithm\n",
        "ap_0_5 = {}\n",
        "ap_1 = {}\n",
        "ap_5 = {}\n",
        "ap_1_0 = {}"
      ]
    },
    {
      "cell_type": "code",
      "execution_count": null,
      "metadata": {
        "id": "3znRU7rZi_tO"
      },
      "outputs": [],
      "source": [
        "confidence = [0.1,0.2,0.3,0.4,0.5,0.6,0.7,0.8,0.9]"
      ]
    },
    {
      "cell_type": "code",
      "execution_count": null,
      "metadata": {
        "id": "mhJzFCGYi_tP"
      },
      "outputs": [],
      "source": [
        "def gen_rules(df,confidence,support):\n",
        "    ap = {}\n",
        "    for i in confidence:\n",
        "        ap_i =apriori(df1,support,True)\n",
        "        rule= association_rules(ap_i,min_threshold=i)\n",
        "        ap[i] = len(rule.antecedents)\n",
        "    return pd.Series(ap).to_frame(\"Support: %s\"%support)"
      ]
    },
    {
      "cell_type": "code",
      "execution_count": null,
      "metadata": {
        "id": "0t_ZPNa5i_tP"
      },
      "outputs": [],
      "source": [
        "confs = []"
      ]
    },
    {
      "cell_type": "code",
      "execution_count": null,
      "metadata": {
        "id": "HWrzj4Nfi_tP"
      },
      "outputs": [],
      "source": [
        "for i in [0.001,0.005,0.01,0.05,0.1]:\n",
        "    ap_i = gen_rules(ap,confidence=confidence,support=i)\n",
        "    confs.append(ap_i)"
      ]
    },
    {
      "cell_type": "code",
      "execution_count": null,
      "metadata": {
        "id": "EEHASk8hi_tQ"
      },
      "outputs": [],
      "source": [
        "all_conf = pd.concat(confs,axis=1)"
      ]
    },
    {
      "cell_type": "code",
      "execution_count": null,
      "metadata": {
        "id": "MXV_CLxEi_tQ",
        "outputId": "feaa296e-7e38-473c-e051-2c3b9a88ea96"
      },
      "outputs": [
        {
          "data": {
            "image/png": "[encoded data removed]",
            "text/plain": [
              "<Figure size 576x576 with 1 Axes>"
            ]
          },
          "metadata": {
            "needs_background": "light"
          },
          "output_type": "display_data"
        }
      ],
      "source": [
        "all_conf.plot(figsize=(8,8),grid=True)\n",
        "plt.ylabel('Rules')\n",
        "plt.xlabel('Confidence')\n",
        "plt.show()"
      ]
    },
    {
      "cell_type": "code",
      "execution_count": null,
      "metadata": {
        "id": "ZsmQC3t4i_tS"
      },
      "outputs": [],
      "source": [
        "ap_final =  apriori(ap,0.001,True)"
      ]
    },
    {
      "cell_type": "code",
      "execution_count": null,
      "metadata": {
        "id": "RgWjiLzqi_tS"
      },
      "outputs": [],
      "source": [
        "rules_final = association_rules(ap_final,min_threshold=.4,support_only=False)"
      ]
    },
    {
      "cell_type": "code",
      "execution_count": null,
      "metadata": {
        "id": "xss4n2IBi_tT"
      },
      "outputs": [],
      "source": [
        "rules_final[rules_final['confidence'] > 0.5]"
      ]
    },
    {
      "cell_type": "code",
      "execution_count": null,
      "metadata": {
        "id": "O-zG_b4Pi_tT"
      },
      "outputs": [],
      "source": [
        "support = rules_final[\"support\"]\n",
        "confidence =  rules_final[\"confidence\"]\n",
        "lift = rules_final[\"lift\"]"
      ]
    },
    {
      "cell_type": "code",
      "execution_count": null,
      "metadata": {
        "id": "9UlTLsibi_tU"
      },
      "outputs": [],
      "source": [
        "fig1 = plt.figure()\n",
        "ax1 = fig1.add_subplot(111, projection = '3d')\n",
        "ax1.scatter(support,confidence,lift)\n",
        "ax1.set_xlabel(\"support\")\n",
        "ax1.set_ylabel(\"confidence\")\n",
        "ax1.set_zlabel(\"lift\")"
      ]
    },
    {
      "cell_type": "code",
      "execution_count": null,
      "metadata": {
        "id": "j5K6Fa1qi_tU"
      },
      "outputs": [],
      "source": [
        "plt.scatter(support,confidence, c =lift, cmap = 'gray')\n",
        "plt.colorbar()\n",
        "plt.xlabel(\"support\");plt.ylabel(\"confidence\")"
      ]
    }
  ],
  "metadata": {
    "kernelspec": {
      "display_name": "Python 3",
      "language": "python",
      "name": "python3"
    },
    "language_info": {
      "codemirror_mode": {
        "name": "ipython",
        "version": 3
      },
      "file_extension": ".py",
      "mimetype": "text/x-python",
      "name": "python",
      "nbconvert_exporter": "python",
      "pygments_lexer": "ipython3",
      "version": "3.7.4"
    },
    "colab": {
      "provenance": []
    }
  },
  "nbformat": 4,
  "nbformat_minor": 0
}