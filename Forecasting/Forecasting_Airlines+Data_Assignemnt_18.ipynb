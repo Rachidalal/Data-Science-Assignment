{
  "cells": [
    {
      "cell_type": "code",
      "execution_count": null,
      "id": "47e88c30",
      "metadata": {
        "id": "47e88c30"
      },
      "outputs": [],
      "source": [
        "import pandas as pd"
      ]
    },
    {
      "cell_type": "code",
      "execution_count": null,
      "id": "e46d31cf",
      "metadata": {
        "id": "e46d31cf"
      },
      "outputs": [],
      "source": [
        "data = pd.read_excel(\"Airlines+Data.xlsx\")\n",
        "data"
      ]
    },
    {
      "cell_type": "code",
      "execution_count": null,
      "id": "63e9305a",
      "metadata": {
        "id": "63e9305a"
      },
      "outputs": [],
      "source": [
        "data.head()"
      ]
    },
    {
      "cell_type": "code",
      "execution_count": null,
      "id": "0c27cd8b",
      "metadata": {
        "id": "0c27cd8b"
      },
      "outputs": [],
      "source": [
        "data.shape"
      ]
    },
    {
      "cell_type": "code",
      "execution_count": null,
      "id": "e00f5b6d",
      "metadata": {
        "id": "e00f5b6d"
      },
      "outputs": [],
      "source": [
        "data.dtypes"
      ]
    },
    {
      "cell_type": "code",
      "execution_count": null,
      "id": "4b2b6ed7",
      "metadata": {
        "id": "4b2b6ed7"
      },
      "outputs": [],
      "source": [
        "data.isna().sum()"
      ]
    },
    {
      "cell_type": "code",
      "execution_count": null,
      "id": "f79261c3",
      "metadata": {
        "id": "f79261c3"
      },
      "outputs": [],
      "source": [
        "data.set_index('Month', inplace=True)\n",
        "data.head()"
      ]
    },
    {
      "cell_type": "code",
      "execution_count": null,
      "id": "3bac461a",
      "metadata": {
        "id": "3bac461a"
      },
      "outputs": [],
      "source": [
        "import seaborn as sns\n",
        "import matplotlib.pyplot as plt"
      ]
    },
    {
      "cell_type": "code",
      "execution_count": null,
      "id": "0f836202",
      "metadata": {
        "id": "0f836202"
      },
      "outputs": [],
      "source": [
        "plt.title(\"Line Plot\", size = 15, weight = 'bold')\n",
        "plt.ylabel(\"Passengers\", size = 10, weight = 'bold')\n",
        "plt.plot(data['Passengers'])"
      ]
    },
    {
      "cell_type": "code",
      "execution_count": null,
      "id": "9ef77180",
      "metadata": {
        "id": "9ef77180"
      },
      "outputs": [],
      "source": [
        "data.hist()"
      ]
    },
    {
      "cell_type": "code",
      "execution_count": null,
      "id": "e2af19f8",
      "metadata": {
        "id": "e2af19f8"
      },
      "outputs": [],
      "source": [
        "from matplotlib import pyplot\n",
        "import numpy as np"
      ]
    },
    {
      "cell_type": "code",
      "execution_count": null,
      "id": "bfdda7fb",
      "metadata": {
        "id": "bfdda7fb"
      },
      "outputs": [],
      "source": [
        "data.plot(kind = 'kde')\n",
        "plt.title(\"Density Plot\",size = 15, weight = 'bold')"
      ]
    },
    {
      "cell_type": "code",
      "execution_count": null,
      "id": "482139a9",
      "metadata": {
        "id": "482139a9"
      },
      "outputs": [],
      "source": [
        "from pandas.plotting import lag_plot\n",
        "\n",
        "lag_plot(data['Passengers'])\n",
        "ax = plt.axes()\n",
        "plt.show()"
      ]
    },
    {
      "cell_type": "code",
      "execution_count": null,
      "id": "758d964e",
      "metadata": {
        "id": "758d964e"
      },
      "outputs": [],
      "source": [
        "import statsmodels.graphics.tsaplots as tsa_plots\n",
        "tsa_plots.plot_acf(data.Passengers,lags=12)\n",
        "ax = plt.axes()\n",
        "ax.set_facecolor(\"white\")\n",
        "tsa_plots.plot_pacf(data.Passengers,lags=12)\n",
        "ax = plt.axes()\n",
        "ax.set_facecolor(\"black\")\n",
        "plt.show()"
      ]
    },
    {
      "cell_type": "code",
      "execution_count": null,
      "id": "e02d3c20",
      "metadata": {
        "id": "e02d3c20"
      },
      "outputs": [],
      "source": [
        "data[\"t\"] = np.arange(1,97)\n",
        "data[\"t_squared\"] = data[\"t\"]*data[\"t\"]\n",
        "\n",
        "data[\"log_psngr\"] = np.log(data[\"Passengers\"])\n",
        "\n",
        "data.head()"
      ]
    },
    {
      "cell_type": "code",
      "execution_count": null,
      "id": "f5b5c77f",
      "metadata": {
        "id": "f5b5c77f"
      },
      "outputs": [],
      "source": [
        "Train = data.head(84)\n",
        "Test = data.tail(12)"
      ]
    },
    {
      "cell_type": "code",
      "execution_count": null,
      "id": "a06672cd",
      "metadata": {
        "id": "a06672cd"
      },
      "outputs": [],
      "source": [
        "import statsmodels.formula.api as smf\n",
        "\n",
        "linear_model = smf.ols('Passengers~t',data=Train).fit()\n",
        "pred_linear =  pd.Series(linear_model.predict(pd.DataFrame(Test['t'])))\n",
        "rmse_linear_model = RMSE(Test['Passengers'], pred_linear)\n",
        "rmse_linear_model"
      ]
    },
    {
      "cell_type": "code",
      "execution_count": null,
      "id": "920a2b68",
      "metadata": {
        "id": "920a2b68"
      },
      "outputs": [],
      "source": [
        "Exp = smf.ols('log_psngr~t',data=Train).fit()\n",
        "pred_Exp = pd.Series(Exp.predict(pd.DataFrame(Test['t'])))\n",
        "rmse_Exp_model = RMSE(Test['Passengers'], np.exp(pred_Exp))\n",
        "rmse_Exp_model"
      ]
    },
    {
      "cell_type": "code",
      "execution_count": null,
      "id": "e586f61e",
      "metadata": {
        "id": "e586f61e"
      },
      "outputs": [],
      "source": [
        "Quad = smf.ols('Passengers~t+t_squared',data=Train).fit()\n",
        "pred_Quad = pd.Series(Quad.predict(Test[[\"t\",\"t_squared\"]]))\n",
        "rmse_Quad_model = RMSE(Test['Passengers'], pred_Quad)\n",
        "rmse_Quad_model"
      ]
    },
    {
      "cell_type": "code",
      "execution_count": null,
      "id": "5d8a45d2",
      "metadata": {
        "id": "5d8a45d2"
      },
      "outputs": [],
      "source": [
        "Quad = smf.ols('Passengers~t+t_squared',data=Train).fit()\n",
        "pred_Quad = pd.Series(Quad.predict(Test[[\"t\",\"t_squared\"]]))\n",
        "rmse_Quad_model = RMSE(Test['Passengers'], pred_Quad)\n",
        "rmse_Quad_model"
      ]
    }
  ],
  "metadata": {
    "kernelspec": {
      "display_name": "Python 3 (ipykernel)",
      "language": "python",
      "name": "python3"
    },
    "language_info": {
      "codemirror_mode": {
        "name": "ipython",
        "version": 3
      },
      "file_extension": ".py",
      "mimetype": "text/x-python",
      "name": "python",
      "nbconvert_exporter": "python",
      "pygments_lexer": "ipython3",
      "version": "3.9.13"
    },
    "colab": {
      "provenance": []
    }
  },
  "nbformat": 4,
  "nbformat_minor": 5
}