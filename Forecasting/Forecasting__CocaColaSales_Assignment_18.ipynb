{
  "cells": [
    {
      "cell_type": "code",
      "execution_count": null,
      "id": "7c4e06e1",
      "metadata": {
        "id": "7c4e06e1"
      },
      "outputs": [],
      "source": [
        "import pandas as pd"
      ]
    },
    {
      "cell_type": "code",
      "execution_count": null,
      "id": "d90b6976",
      "metadata": {
        "id": "d90b6976"
      },
      "outputs": [],
      "source": [
        "data = pd.read_excel(r\"CocaCola_Sales_Rawdata.xlsx\")\n",
        "data"
      ]
    },
    {
      "cell_type": "code",
      "execution_count": null,
      "id": "70badb14",
      "metadata": {
        "id": "70badb14"
      },
      "outputs": [],
      "source": [
        "data.head()"
      ]
    },
    {
      "cell_type": "code",
      "execution_count": null,
      "id": "7eaefca9",
      "metadata": {
        "id": "7eaefca9"
      },
      "outputs": [],
      "source": [
        "data.shape"
      ]
    },
    {
      "cell_type": "code",
      "execution_count": null,
      "id": "28bedc04",
      "metadata": {
        "id": "28bedc04"
      },
      "outputs": [],
      "source": [
        "import seaborn as sns\n",
        "import matplotlib.pyplot as plt"
      ]
    },
    {
      "cell_type": "code",
      "execution_count": null,
      "id": "070f16e7",
      "metadata": {
        "id": "070f16e7"
      },
      "outputs": [],
      "source": [
        "plt.title(\"Line Plot\", size = 15, weight = 'bold')\n",
        "plt.ylabel(\"Sales\", size = 10, weight = 'bold')\n",
        "plt.plot(data['Sales'])"
      ]
    },
    {
      "cell_type": "code",
      "execution_count": null,
      "id": "552dbfa7",
      "metadata": {
        "id": "552dbfa7"
      },
      "outputs": [],
      "source": [
        "data.hist()"
      ]
    },
    {
      "cell_type": "code",
      "execution_count": null,
      "id": "cce28afa",
      "metadata": {
        "id": "cce28afa"
      },
      "outputs": [],
      "source": [
        "data.plot(kind = 'kde')\n",
        "plt.title(\"Density Plot\",size = 15, weight = 'bold')"
      ]
    },
    {
      "cell_type": "code",
      "execution_count": null,
      "id": "c5a5c80a",
      "metadata": {
        "id": "c5a5c80a"
      },
      "outputs": [],
      "source": [
        "quarters = ['Q1','Q2','Q3','Q4']\n",
        "n = data['Quarter'][0]\n",
        "n[0:2]"
      ]
    },
    {
      "cell_type": "code",
      "execution_count": null,
      "id": "71c01168",
      "metadata": {
        "id": "71c01168"
      },
      "outputs": [],
      "source": [
        "data['quarter'] = 0\n",
        "for i in range(42):\n",
        "    n = data['Quarter'][i]\n",
        "    data['quarter'][i] = n[0:2]"
      ]
    },
    {
      "cell_type": "code",
      "execution_count": null,
      "id": "4adf33ce",
      "metadata": {
        "id": "4adf33ce"
      },
      "outputs": [],
      "source": [
        "dummy = pd.DataFrame(pd.get_dummies(data['quarter']))\n",
        "dummy"
      ]
    },
    {
      "cell_type": "code",
      "execution_count": null,
      "id": "99ec7482",
      "metadata": {
        "id": "99ec7482"
      },
      "outputs": [],
      "source": [
        "data_c = pd.concat([data,dummy], axis = 1)\n",
        "data_c"
      ]
    },
    {
      "cell_type": "code",
      "execution_count": null,
      "id": "46600386",
      "metadata": {
        "id": "46600386"
      },
      "outputs": [],
      "source": [
        "data_c[\"t\"] = np.arange(1,43)\n",
        "\n",
        "data_c[\"t_squared\"] = data_c[\"t\"]*data_c[\"t\"]\n",
        "data_c.columns\n",
        "data_c[\"log_Sales\"] = np.log(data_c[\"Sales\"])\n",
        "data_c"
      ]
    },
    {
      "cell_type": "code",
      "execution_count": null,
      "id": "ba5c48a3",
      "metadata": {
        "id": "ba5c48a3"
      },
      "outputs": [],
      "source": [
        "plt.figure(figsize=(12,8))\n",
        "heatmap_y_quarter = pd.pivot_table(data=data_c,values=\"Sales\",index=\"Quarter\",columns=\"quarter\",aggfunc=\"mean\", fill_value = 0)\n",
        "sns.heatmap(heatmap_y_quarter,annot=True,fmt=\"g\") #fmt is format of the grid values"
      ]
    },
    {
      "cell_type": "code",
      "execution_count": null,
      "id": "d16c4cf0",
      "metadata": {
        "id": "d16c4cf0"
      },
      "outputs": [],
      "source": [
        "plt.figure(figsize=(8,6))\n",
        "sns.boxplot(x=\"quarter\",y=\"Sales\",data=data_c)"
      ]
    },
    {
      "cell_type": "code",
      "execution_count": null,
      "id": "d02d0ed2",
      "metadata": {
        "id": "d02d0ed2"
      },
      "outputs": [],
      "source": [
        "from pandas.plotting import lag_plot\n",
        "from statsmodels.graphics.tsaplots import plot_acf"
      ]
    },
    {
      "cell_type": "code",
      "execution_count": null,
      "id": "a43b0392",
      "metadata": {
        "id": "a43b0392"
      },
      "outputs": [],
      "source": [
        "lag_plot(data_c['Sales'])\n",
        "plt.title(\"Lag Plot\", size = 15, weight = \"bold\")\n",
        "plt.show()"
      ]
    },
    {
      "cell_type": "code",
      "execution_count": null,
      "id": "14ccebdd",
      "metadata": {
        "id": "14ccebdd"
      },
      "outputs": [],
      "source": [
        "plot_acf(data_c['Sales'], lags = 30, color = 'darkblue')                                              # lags = 30 means it will plot for k = 30 lags\n",
        "plt.xlabel(\"No of lags, k = 30\", size = 10, weight = 'bold')\n",
        "plt.ylabel(\"Autocorrelation (r2 value)\", size = 10, weight = 'bold')\n",
        "plt.show()"
      ]
    },
    {
      "cell_type": "code",
      "execution_count": null,
      "id": "d91661bb",
      "metadata": {
        "id": "d91661bb"
      },
      "outputs": [],
      "source": [
        "plt.figure(figsize=(12,3))\n",
        "sns.lineplot(x=\"quarter\",y=\"Sales\",data=data_c)"
      ]
    },
    {
      "cell_type": "code",
      "execution_count": null,
      "id": "9f7de1b8",
      "metadata": {
        "id": "9f7de1b8"
      },
      "outputs": [],
      "source": [
        "data_c['Sales'].plot()\n",
        "\n",
        "train = data_c.head(37)\n",
        "test  = data_c.tail(4)"
      ]
    },
    {
      "cell_type": "code",
      "execution_count": null,
      "id": "78447e97",
      "metadata": {
        "id": "78447e97"
      },
      "outputs": [],
      "source": [
        "train"
      ]
    },
    {
      "cell_type": "code",
      "execution_count": null,
      "id": "d98e1506",
      "metadata": {
        "id": "d98e1506"
      },
      "outputs": [],
      "source": [
        "test"
      ]
    },
    {
      "cell_type": "code",
      "execution_count": null,
      "id": "b6ef4b02",
      "metadata": {
        "id": "b6ef4b02"
      },
      "outputs": [],
      "source": [
        "import statsmodels.formula.api as smf\n",
        "\n",
        "linear = smf.ols('Sales~t',data=train).fit()\n",
        "pred_linear =  pd.Series(linear.predict(pd.DataFrame(test['t'])))\n",
        "rmse_linear = np.sqrt(np.mean((np.array(test['Sales'])-np.array(pred_linear))**2))\n",
        "rmse_linear"
      ]
    },
    {
      "cell_type": "code",
      "execution_count": null,
      "id": "373c62fc",
      "metadata": {
        "id": "373c62fc"
      },
      "outputs": [],
      "source": [
        "Exp = smf.ols('log_Sales~t',data=train).fit()\n",
        "pred_Exp = pd.Series(Exp.predict(pd.DataFrame(test['t'])))\n",
        "rmse_Exp = np.sqrt(np.mean((np.array(test['Sales'])-np.array(np.exp(pred_Exp)))**2))\n",
        "print(\"Root Mean Square Error : \",rmse_Exp)"
      ]
    },
    {
      "cell_type": "code",
      "execution_count": null,
      "id": "0b068615",
      "metadata": {
        "id": "0b068615"
      },
      "outputs": [],
      "source": [
        "Quad = smf.ols('Sales~t+t_squared',data=train).fit()\n",
        "pred_Quad = pd.Series(Quad.predict(test[[\"t\",\"t_squared\"]]))\n",
        "rmse_Quad = np.sqrt(np.mean((np.array(test['Sales'])-np.array(pred_Quad))**2))\n",
        "print(\"Root Mean Square Error : \",rmse_Quad)"
      ]
    },
    {
      "cell_type": "code",
      "execution_count": null,
      "id": "44ef2d0a",
      "metadata": {
        "id": "44ef2d0a"
      },
      "outputs": [],
      "source": [
        "add_sea = smf.ols('Sales~Q1+Q2+Q3+Q4',data=train).fit()\n",
        "pred_add_sea = pd.Series(add_sea.predict(test[['Q1','Q2','Q3','Q4']]))\n",
        "rmse_add_sea = np.sqrt(np.mean((np.array(test['Sales'])-np.array(pred_add_sea))**2))\n",
        "print(\"Root Mean Square Error : \",rmse_add_sea)"
      ]
    }
  ],
  "metadata": {
    "kernelspec": {
      "display_name": "Python 3 (ipykernel)",
      "language": "python",
      "name": "python3"
    },
    "language_info": {
      "codemirror_mode": {
        "name": "ipython",
        "version": 3
      },
      "file_extension": ".py",
      "mimetype": "text/x-python",
      "name": "python",
      "nbconvert_exporter": "python",
      "pygments_lexer": "ipython3",
      "version": "3.9.13"
    },
    "colab": {
      "provenance": []
    }
  },
  "nbformat": 4,
  "nbformat_minor": 5
}